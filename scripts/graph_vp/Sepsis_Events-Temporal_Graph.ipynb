{
 "cells": [
  {
   "cell_type": "code",
   "execution_count": 93,
   "metadata": {},
   "outputs": [],
   "source": [
    "import mysql.connector as sql\n",
    "import pandas as pd\n",
    "import datetime\n",
    "import uuid\n"
   ]
  },
  {
   "cell_type": "code",
   "execution_count": 94,
   "metadata": {},
   "outputs": [],
   "source": [
    "def convert_date_col(date_str):\n",
    "    date_str = date_str[0:16]\n",
    "    try:\n",
    "        return datetime.datetime.strptime(date_str, '%m/%d/%Y %H:%M').strftime('%Y-%m-%dT%H:%M')\n",
    "    except:\n",
    "        return datetime.datetime.strptime(date_str, '%Y-%m-%d %H:%M').strftime('%Y-%m-%dT%H:%M')"
   ]
  },
  {
   "cell_type": "code",
   "execution_count": 95,
   "metadata": {},
   "outputs": [],
   "source": [
    "db_connection = sql.connect(host='localhost', database='benedict', user='root', password='artema2')"
   ]
  },
  {
   "cell_type": "code",
   "execution_count": 96,
   "metadata": {},
   "outputs": [],
   "source": [
    "qry = \"SELECT fin, event_date  as eventDate, \"\n",
    "qry = qry + \"event_name AS eventName, result_val as resultValue, \"\n",
    "qry = qry + \"result_unit AS resultUnit, event_category AS eventCategory \"\n",
    "qry = qry + \"FROM benedict.sepsis_case_events ORDER BY fin, event_date \"\n",
    "# qry = qry + \" LIMIT 1000;\"\n",
    "df = pd.read_sql(qry, con=db_connection)"
   ]
  },
  {
   "cell_type": "code",
   "execution_count": 97,
   "metadata": {},
   "outputs": [
    {
     "data": {
      "text/html": [
       "<div>\n",
       "<style scoped>\n",
       "    .dataframe tbody tr th:only-of-type {\n",
       "        vertical-align: middle;\n",
       "    }\n",
       "\n",
       "    .dataframe tbody tr th {\n",
       "        vertical-align: top;\n",
       "    }\n",
       "\n",
       "    .dataframe thead th {\n",
       "        text-align: right;\n",
       "    }\n",
       "</style>\n",
       "<table border=\"1\" class=\"dataframe\">\n",
       "  <thead>\n",
       "    <tr style=\"text-align: right;\">\n",
       "      <th></th>\n",
       "      <th>fin</th>\n",
       "      <th>eventDate</th>\n",
       "      <th>eventName</th>\n",
       "      <th>resultValue</th>\n",
       "      <th>resultUnit</th>\n",
       "      <th>eventCategory</th>\n",
       "    </tr>\n",
       "  </thead>\n",
       "  <tbody>\n",
       "    <tr>\n",
       "      <th>0</th>\n",
       "      <td>+/wwoxFTiWTn</td>\n",
       "      <td>12/18/2013 12:57</td>\n",
       "      <td>Temperature Conversion</td>\n",
       "      <td>37.1</td>\n",
       "      <td>DegC</td>\n",
       "      <td>vitals</td>\n",
       "    </tr>\n",
       "    <tr>\n",
       "      <th>1</th>\n",
       "      <td>+/wwoxFTiWTn</td>\n",
       "      <td>12/18/2013 12:57</td>\n",
       "      <td>Respiratory Rate</td>\n",
       "      <td>18.0</td>\n",
       "      <td>RPM</td>\n",
       "      <td>vitals</td>\n",
       "    </tr>\n",
       "    <tr>\n",
       "      <th>2</th>\n",
       "      <td>+/wwoxFTiWTn</td>\n",
       "      <td>12/18/2013 12:57</td>\n",
       "      <td>Diastolic BP</td>\n",
       "      <td>99.0</td>\n",
       "      <td>mmHg</td>\n",
       "      <td>vitals</td>\n",
       "    </tr>\n",
       "    <tr>\n",
       "      <th>3</th>\n",
       "      <td>+/wwoxFTiWTn</td>\n",
       "      <td>12/18/2013 12:57</td>\n",
       "      <td>Pulse</td>\n",
       "      <td>72.0</td>\n",
       "      <td>BPM</td>\n",
       "      <td>vitals</td>\n",
       "    </tr>\n",
       "    <tr>\n",
       "      <th>4</th>\n",
       "      <td>+/wwoxFTiWTn</td>\n",
       "      <td>12/18/2013 12:57</td>\n",
       "      <td>Systolic BP</td>\n",
       "      <td>164.0</td>\n",
       "      <td>mmHg</td>\n",
       "      <td>vitals</td>\n",
       "    </tr>\n",
       "  </tbody>\n",
       "</table>\n",
       "</div>"
      ],
      "text/plain": [
       "            fin         eventDate               eventName  resultValue  \\\n",
       "0  +/wwoxFTiWTn  12/18/2013 12:57  Temperature Conversion         37.1   \n",
       "1  +/wwoxFTiWTn  12/18/2013 12:57        Respiratory Rate         18.0   \n",
       "2  +/wwoxFTiWTn  12/18/2013 12:57            Diastolic BP         99.0   \n",
       "3  +/wwoxFTiWTn  12/18/2013 12:57                   Pulse         72.0   \n",
       "4  +/wwoxFTiWTn  12/18/2013 12:57             Systolic BP        164.0   \n",
       "\n",
       "  resultUnit eventCategory  \n",
       "0       DegC        vitals  \n",
       "1        RPM        vitals  \n",
       "2       mmHg        vitals  \n",
       "3        BPM        vitals  \n",
       "4       mmHg        vitals  "
      ]
     },
     "execution_count": 97,
     "metadata": {},
     "output_type": "execute_result"
    }
   ],
   "source": [
    "df.head()"
   ]
  },
  {
   "cell_type": "code",
   "execution_count": 98,
   "metadata": {},
   "outputs": [
    {
     "data": {
      "text/plain": [
       "(6047543, 6)"
      ]
     },
     "execution_count": 98,
     "metadata": {},
     "output_type": "execute_result"
    }
   ],
   "source": [
    "df.shape"
   ]
  },
  {
   "cell_type": "code",
   "execution_count": 99,
   "metadata": {},
   "outputs": [],
   "source": [
    "df['eventDate'] = df['eventDate'].apply(lambda x: convert_date_col(x))"
   ]
  },
  {
   "cell_type": "code",
   "execution_count": 100,
   "metadata": {
    "scrolled": true
   },
   "outputs": [
    {
     "data": {
      "text/html": [
       "<div>\n",
       "<style scoped>\n",
       "    .dataframe tbody tr th:only-of-type {\n",
       "        vertical-align: middle;\n",
       "    }\n",
       "\n",
       "    .dataframe tbody tr th {\n",
       "        vertical-align: top;\n",
       "    }\n",
       "\n",
       "    .dataframe thead th {\n",
       "        text-align: right;\n",
       "    }\n",
       "</style>\n",
       "<table border=\"1\" class=\"dataframe\">\n",
       "  <thead>\n",
       "    <tr style=\"text-align: right;\">\n",
       "      <th></th>\n",
       "      <th>fin</th>\n",
       "      <th>eventDate</th>\n",
       "      <th>eventName</th>\n",
       "      <th>resultValue</th>\n",
       "      <th>resultUnit</th>\n",
       "      <th>eventCategory</th>\n",
       "    </tr>\n",
       "  </thead>\n",
       "  <tbody>\n",
       "    <tr>\n",
       "      <th>0</th>\n",
       "      <td>+/wwoxFTiWTn</td>\n",
       "      <td>2013-12-18T12:57</td>\n",
       "      <td>Temperature Conversion</td>\n",
       "      <td>37.1</td>\n",
       "      <td>DegC</td>\n",
       "      <td>vitals</td>\n",
       "    </tr>\n",
       "    <tr>\n",
       "      <th>1</th>\n",
       "      <td>+/wwoxFTiWTn</td>\n",
       "      <td>2013-12-18T12:57</td>\n",
       "      <td>Respiratory Rate</td>\n",
       "      <td>18.0</td>\n",
       "      <td>RPM</td>\n",
       "      <td>vitals</td>\n",
       "    </tr>\n",
       "    <tr>\n",
       "      <th>2</th>\n",
       "      <td>+/wwoxFTiWTn</td>\n",
       "      <td>2013-12-18T12:57</td>\n",
       "      <td>Diastolic BP</td>\n",
       "      <td>99.0</td>\n",
       "      <td>mmHg</td>\n",
       "      <td>vitals</td>\n",
       "    </tr>\n",
       "    <tr>\n",
       "      <th>3</th>\n",
       "      <td>+/wwoxFTiWTn</td>\n",
       "      <td>2013-12-18T12:57</td>\n",
       "      <td>Pulse</td>\n",
       "      <td>72.0</td>\n",
       "      <td>BPM</td>\n",
       "      <td>vitals</td>\n",
       "    </tr>\n",
       "    <tr>\n",
       "      <th>4</th>\n",
       "      <td>+/wwoxFTiWTn</td>\n",
       "      <td>2013-12-18T12:57</td>\n",
       "      <td>Systolic BP</td>\n",
       "      <td>164.0</td>\n",
       "      <td>mmHg</td>\n",
       "      <td>vitals</td>\n",
       "    </tr>\n",
       "  </tbody>\n",
       "</table>\n",
       "</div>"
      ],
      "text/plain": [
       "            fin         eventDate               eventName  resultValue  \\\n",
       "0  +/wwoxFTiWTn  2013-12-18T12:57  Temperature Conversion         37.1   \n",
       "1  +/wwoxFTiWTn  2013-12-18T12:57        Respiratory Rate         18.0   \n",
       "2  +/wwoxFTiWTn  2013-12-18T12:57            Diastolic BP         99.0   \n",
       "3  +/wwoxFTiWTn  2013-12-18T12:57                   Pulse         72.0   \n",
       "4  +/wwoxFTiWTn  2013-12-18T12:57             Systolic BP        164.0   \n",
       "\n",
       "  resultUnit eventCategory  \n",
       "0       DegC        vitals  \n",
       "1        RPM        vitals  \n",
       "2       mmHg        vitals  \n",
       "3        BPM        vitals  \n",
       "4       mmHg        vitals  "
      ]
     },
     "execution_count": 100,
     "metadata": {},
     "output_type": "execute_result"
    }
   ],
   "source": [
    "df.head()"
   ]
  },
  {
   "cell_type": "code",
   "execution_count": 101,
   "metadata": {},
   "outputs": [
    {
     "data": {
      "text/html": [
       "<div>\n",
       "<style scoped>\n",
       "    .dataframe tbody tr th:only-of-type {\n",
       "        vertical-align: middle;\n",
       "    }\n",
       "\n",
       "    .dataframe tbody tr th {\n",
       "        vertical-align: top;\n",
       "    }\n",
       "\n",
       "    .dataframe thead th {\n",
       "        text-align: right;\n",
       "    }\n",
       "</style>\n",
       "<table border=\"1\" class=\"dataframe\">\n",
       "  <thead>\n",
       "    <tr style=\"text-align: right;\">\n",
       "      <th></th>\n",
       "      <th>fin</th>\n",
       "      <th>counts</th>\n",
       "      <th>patientId</th>\n",
       "    </tr>\n",
       "  </thead>\n",
       "  <tbody>\n",
       "    <tr>\n",
       "      <th>0</th>\n",
       "      <td>aePTw3ZLfusq</td>\n",
       "      <td>22060</td>\n",
       "      <td>c096f95c-2546-4806-931b-3e75eb6dce31</td>\n",
       "    </tr>\n",
       "    <tr>\n",
       "      <th>1</th>\n",
       "      <td>zjI+728vMb6P</td>\n",
       "      <td>20587</td>\n",
       "      <td>b0836bdf-21e2-4888-9dc5-bfcc98aca747</td>\n",
       "    </tr>\n",
       "    <tr>\n",
       "      <th>2</th>\n",
       "      <td>E0v8kM7hynUI</td>\n",
       "      <td>19497</td>\n",
       "      <td>aca8f6e0-837b-467b-9a3c-ede3cfacadec</td>\n",
       "    </tr>\n",
       "    <tr>\n",
       "      <th>3</th>\n",
       "      <td>bjS47Ql19Qi0</td>\n",
       "      <td>19245</td>\n",
       "      <td>bc107d6a-7ca8-4d8c-a19c-edbb5d18350c</td>\n",
       "    </tr>\n",
       "    <tr>\n",
       "      <th>4</th>\n",
       "      <td>WtR0GYU74gOB</td>\n",
       "      <td>19172</td>\n",
       "      <td>02806116-784d-4eaa-8f96-336be15a8598</td>\n",
       "    </tr>\n",
       "  </tbody>\n",
       "</table>\n",
       "</div>"
      ],
      "text/plain": [
       "            fin  counts                             patientId\n",
       "0  aePTw3ZLfusq   22060  c096f95c-2546-4806-931b-3e75eb6dce31\n",
       "1  zjI+728vMb6P   20587  b0836bdf-21e2-4888-9dc5-bfcc98aca747\n",
       "2  E0v8kM7hynUI   19497  aca8f6e0-837b-467b-9a3c-ede3cfacadec\n",
       "3  bjS47Ql19Qi0   19245  bc107d6a-7ca8-4d8c-a19c-edbb5d18350c\n",
       "4  WtR0GYU74gOB   19172  02806116-784d-4eaa-8f96-336be15a8598"
      ]
     },
     "execution_count": 101,
     "metadata": {},
     "output_type": "execute_result"
    }
   ],
   "source": [
    "df_pat = df['fin'].value_counts().rename_axis('fin').reset_index(name='counts')\n",
    "df_pat['patientId'] = [uuid.uuid4() for _ in range(len(df_pat.index))]\n",
    "df_pat.head()"
   ]
  },
  {
   "cell_type": "code",
   "execution_count": 102,
   "metadata": {},
   "outputs": [
    {
     "data": {
      "text/html": [
       "<div>\n",
       "<style scoped>\n",
       "    .dataframe tbody tr th:only-of-type {\n",
       "        vertical-align: middle;\n",
       "    }\n",
       "\n",
       "    .dataframe tbody tr th {\n",
       "        vertical-align: top;\n",
       "    }\n",
       "\n",
       "    .dataframe thead th {\n",
       "        text-align: right;\n",
       "    }\n",
       "</style>\n",
       "<table border=\"1\" class=\"dataframe\">\n",
       "  <thead>\n",
       "    <tr style=\"text-align: right;\">\n",
       "      <th></th>\n",
       "      <th>fin</th>\n",
       "      <th>eventDate</th>\n",
       "      <th>eventName</th>\n",
       "      <th>resultValue</th>\n",
       "      <th>resultUnit</th>\n",
       "      <th>eventCategory</th>\n",
       "      <th>counts</th>\n",
       "      <th>patientId</th>\n",
       "    </tr>\n",
       "  </thead>\n",
       "  <tbody>\n",
       "    <tr>\n",
       "      <th>0</th>\n",
       "      <td>+/wwoxFTiWTn</td>\n",
       "      <td>2013-12-18T12:57</td>\n",
       "      <td>Temperature Conversion</td>\n",
       "      <td>37.1</td>\n",
       "      <td>DegC</td>\n",
       "      <td>vitals</td>\n",
       "      <td>112</td>\n",
       "      <td>941822f2-f9f7-4bfe-b956-b8a610e448cd</td>\n",
       "    </tr>\n",
       "    <tr>\n",
       "      <th>1</th>\n",
       "      <td>+/wwoxFTiWTn</td>\n",
       "      <td>2013-12-18T12:57</td>\n",
       "      <td>Respiratory Rate</td>\n",
       "      <td>18.0</td>\n",
       "      <td>RPM</td>\n",
       "      <td>vitals</td>\n",
       "      <td>112</td>\n",
       "      <td>941822f2-f9f7-4bfe-b956-b8a610e448cd</td>\n",
       "    </tr>\n",
       "    <tr>\n",
       "      <th>2</th>\n",
       "      <td>+/wwoxFTiWTn</td>\n",
       "      <td>2013-12-18T12:57</td>\n",
       "      <td>Diastolic BP</td>\n",
       "      <td>99.0</td>\n",
       "      <td>mmHg</td>\n",
       "      <td>vitals</td>\n",
       "      <td>112</td>\n",
       "      <td>941822f2-f9f7-4bfe-b956-b8a610e448cd</td>\n",
       "    </tr>\n",
       "    <tr>\n",
       "      <th>3</th>\n",
       "      <td>+/wwoxFTiWTn</td>\n",
       "      <td>2013-12-18T12:57</td>\n",
       "      <td>Pulse</td>\n",
       "      <td>72.0</td>\n",
       "      <td>BPM</td>\n",
       "      <td>vitals</td>\n",
       "      <td>112</td>\n",
       "      <td>941822f2-f9f7-4bfe-b956-b8a610e448cd</td>\n",
       "    </tr>\n",
       "    <tr>\n",
       "      <th>4</th>\n",
       "      <td>+/wwoxFTiWTn</td>\n",
       "      <td>2013-12-18T12:57</td>\n",
       "      <td>Systolic BP</td>\n",
       "      <td>164.0</td>\n",
       "      <td>mmHg</td>\n",
       "      <td>vitals</td>\n",
       "      <td>112</td>\n",
       "      <td>941822f2-f9f7-4bfe-b956-b8a610e448cd</td>\n",
       "    </tr>\n",
       "  </tbody>\n",
       "</table>\n",
       "</div>"
      ],
      "text/plain": [
       "            fin         eventDate               eventName  resultValue  \\\n",
       "0  +/wwoxFTiWTn  2013-12-18T12:57  Temperature Conversion         37.1   \n",
       "1  +/wwoxFTiWTn  2013-12-18T12:57        Respiratory Rate         18.0   \n",
       "2  +/wwoxFTiWTn  2013-12-18T12:57            Diastolic BP         99.0   \n",
       "3  +/wwoxFTiWTn  2013-12-18T12:57                   Pulse         72.0   \n",
       "4  +/wwoxFTiWTn  2013-12-18T12:57             Systolic BP        164.0   \n",
       "\n",
       "  resultUnit eventCategory  counts                             patientId  \n",
       "0       DegC        vitals     112  941822f2-f9f7-4bfe-b956-b8a610e448cd  \n",
       "1        RPM        vitals     112  941822f2-f9f7-4bfe-b956-b8a610e448cd  \n",
       "2       mmHg        vitals     112  941822f2-f9f7-4bfe-b956-b8a610e448cd  \n",
       "3        BPM        vitals     112  941822f2-f9f7-4bfe-b956-b8a610e448cd  \n",
       "4       mmHg        vitals     112  941822f2-f9f7-4bfe-b956-b8a610e448cd  "
      ]
     },
     "execution_count": 102,
     "metadata": {},
     "output_type": "execute_result"
    }
   ],
   "source": [
    "df_events = pd.merge(df, df_pat, on='fin', how='inner')\n",
    "df_events.head()"
   ]
  },
  {
   "cell_type": "code",
   "execution_count": 103,
   "metadata": {},
   "outputs": [],
   "source": [
    "df_events = df_events[['patientId', 'eventDate', 'eventName', 'resultValue', 'resultUnit', 'eventCategory']]"
   ]
  },
  {
   "cell_type": "code",
   "execution_count": 104,
   "metadata": {},
   "outputs": [],
   "source": [
    "df_events.to_csv('sepsis_events_sorted.csv')\n",
    "df_pat.to_csv('sepsis_events_patients.csv')"
   ]
  },
  {
   "cell_type": "code",
   "execution_count": null,
   "metadata": {},
   "outputs": [],
   "source": []
  }
 ],
 "metadata": {
  "kernelspec": {
   "display_name": "Python 3",
   "language": "python",
   "name": "python3"
  },
  "language_info": {
   "codemirror_mode": {
    "name": "ipython",
    "version": 3
   },
   "file_extension": ".py",
   "mimetype": "text/x-python",
   "name": "python",
   "nbconvert_exporter": "python",
   "pygments_lexer": "ipython3",
   "version": "3.7.1"
  }
 },
 "nbformat": 4,
 "nbformat_minor": 2
}
