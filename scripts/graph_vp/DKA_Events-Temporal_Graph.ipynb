{
 "cells": [
  {
   "cell_type": "code",
   "execution_count": 1,
   "metadata": {},
   "outputs": [],
   "source": [
    "import mysql.connector as sql\n",
    "import pandas as pd\n",
    "import datetime\n",
    "import uuid\n"
   ]
  },
  {
   "cell_type": "code",
   "execution_count": 27,
   "metadata": {},
   "outputs": [],
   "source": [
    "def convert_date_col(date_str):\n",
    "    date_str = date_str[0:16]\n",
    "    try:\n",
    "        return datetime.datetime.strptime(date_str, '%m/%d/%Y %H:%M').strftime('%Y-%m-%dT%H:%M')\n",
    "    except:\n",
    "        return datetime.datetime.strptime(date_str, '%Y-%m-%d %H:%M').strftime('%Y-%m-%dT%H:%M')"
   ]
  },
  {
   "cell_type": "code",
   "execution_count": 28,
   "metadata": {},
   "outputs": [],
   "source": [
    "db_connection = sql.connect(host='localhost', database='benedict', user='root', password='artema2')"
   ]
  },
  {
   "cell_type": "code",
   "execution_count": 29,
   "metadata": {},
   "outputs": [
    {
     "data": {
      "text/plain": [
       "['6b129580-229a-11ea-af9c-8a315723aae9',\n",
       " '6b5b905a-229a-11ea-af9c-8a315723aae9',\n",
       " '6aeaa7a0-229a-11ea-af9c-8a315723aae9',\n",
       " '6b046afa-229a-11ea-af9c-8a315723aae9',\n",
       " '6b3f03e0-229a-11ea-af9c-8a315723aae9']"
      ]
     },
     "execution_count": 29,
     "metadata": {},
     "output_type": "execute_result"
    }
   ],
   "source": [
    "patient_list = pd.read_csv('dka_patients.csv')\n",
    "patients = list(patient_list['patient_id'])\n",
    "patients[:5]"
   ]
  },
  {
   "cell_type": "code",
   "execution_count": 30,
   "metadata": {},
   "outputs": [
    {
     "name": "stdout",
     "output_type": "stream",
     "text": [
      "SELECT uuid() AS eventId, patient_id AS patientId, event_date  as eventDate, event_name AS eventName, result_val as resultValue, result_unit AS resultUnit, event_category AS eventCategory FROM benedict.dka_case_events e JOIN benedict.dka_patients p ON e.fin = p.fin WHERE patient_id IN ('6b129580-229a-11ea-af9c-8a315723aae9', '6b5b905a-229a-11ea-af9c-8a315723aae9', '6aeaa7a0-229a-11ea-af9c-8a315723aae9', '6b046afa-229a-11ea-af9c-8a315723aae9', '6b3f03e0-229a-11ea-af9c-8a315723aae9')  ORDER BY patient_id, eventDate \n"
     ]
    }
   ],
   "source": [
    "qry = \"SELECT uuid() AS eventId, patient_id AS patientId, event_date  as eventDate, event_name AS eventName, result_val as resultValue, result_unit AS resultUnit, event_category AS eventCategory \"\n",
    "qry = qry + \"FROM benedict.dka_case_events e JOIN benedict.dka_patients p ON e.fin = p.fin \"\n",
    "qry = qry + \"WHERE patient_id IN (\" + str(patients[:5]).replace('[', '').replace(']', '') + \") \"\n",
    "qry = qry + \" ORDER BY patient_id, eventDate \"\n",
    "#qry = qry + \"LIMIT 1000;\"\n",
    "\n",
    "print(qry)\n"
   ]
  },
  {
   "cell_type": "code",
   "execution_count": 31,
   "metadata": {},
   "outputs": [],
   "source": [
    "df = pd.read_sql(qry, con=db_connection)"
   ]
  },
  {
   "cell_type": "code",
   "execution_count": 32,
   "metadata": {},
   "outputs": [
    {
     "data": {
      "text/plain": [
       "(906, 7)"
      ]
     },
     "execution_count": 32,
     "metadata": {},
     "output_type": "execute_result"
    }
   ],
   "source": [
    "df.shape"
   ]
  },
  {
   "cell_type": "code",
   "execution_count": 33,
   "metadata": {},
   "outputs": [
    {
     "data": {
      "text/html": [
       "<div>\n",
       "<style scoped>\n",
       "    .dataframe tbody tr th:only-of-type {\n",
       "        vertical-align: middle;\n",
       "    }\n",
       "\n",
       "    .dataframe tbody tr th {\n",
       "        vertical-align: top;\n",
       "    }\n",
       "\n",
       "    .dataframe thead th {\n",
       "        text-align: right;\n",
       "    }\n",
       "</style>\n",
       "<table border=\"1\" class=\"dataframe\">\n",
       "  <thead>\n",
       "    <tr style=\"text-align: right;\">\n",
       "      <th></th>\n",
       "      <th>eventId</th>\n",
       "      <th>patientId</th>\n",
       "      <th>eventDate</th>\n",
       "      <th>eventName</th>\n",
       "      <th>resultValue</th>\n",
       "      <th>resultUnit</th>\n",
       "      <th>eventCategory</th>\n",
       "    </tr>\n",
       "  </thead>\n",
       "  <tbody>\n",
       "    <tr>\n",
       "      <td>0</td>\n",
       "      <td>dd2d9a42-73ae-11ea-9037-d077e516bc70</td>\n",
       "      <td>6aeaa7a0-229a-11ea-af9c-8a315723aae9</td>\n",
       "      <td>2013-08-06 00:20:00</td>\n",
       "      <td>Normal saline</td>\n",
       "      <td>1000.0</td>\n",
       "      <td>mL</td>\n",
       "      <td>bolus</td>\n",
       "    </tr>\n",
       "    <tr>\n",
       "      <td>1</td>\n",
       "      <td>dd2d9a7e-73ae-11ea-9037-d077e516bc70</td>\n",
       "      <td>6aeaa7a0-229a-11ea-af9c-8a315723aae9</td>\n",
       "      <td>2013-08-06 00:36:00</td>\n",
       "      <td>Diastolic BP</td>\n",
       "      <td>54.0</td>\n",
       "      <td>mmHg</td>\n",
       "      <td>vitals</td>\n",
       "    </tr>\n",
       "    <tr>\n",
       "      <td>2</td>\n",
       "      <td>dd2d9a92-73ae-11ea-9037-d077e516bc70</td>\n",
       "      <td>6aeaa7a0-229a-11ea-af9c-8a315723aae9</td>\n",
       "      <td>2013-08-06 00:36:00</td>\n",
       "      <td>Diastolic BP</td>\n",
       "      <td>54.0</td>\n",
       "      <td>mmHg</td>\n",
       "      <td>vitals</td>\n",
       "    </tr>\n",
       "    <tr>\n",
       "      <td>3</td>\n",
       "      <td>dd2d9a9c-73ae-11ea-9037-d077e516bc70</td>\n",
       "      <td>6aeaa7a0-229a-11ea-af9c-8a315723aae9</td>\n",
       "      <td>2013-08-06 00:36:00</td>\n",
       "      <td>Systolic BP</td>\n",
       "      <td>96.0</td>\n",
       "      <td>mmHg</td>\n",
       "      <td>vitals</td>\n",
       "    </tr>\n",
       "    <tr>\n",
       "      <td>4</td>\n",
       "      <td>dd2d9a9d-73ae-11ea-9037-d077e516bc70</td>\n",
       "      <td>6aeaa7a0-229a-11ea-af9c-8a315723aae9</td>\n",
       "      <td>2013-08-06 00:36:00</td>\n",
       "      <td>Respiratory Rate</td>\n",
       "      <td>22.0</td>\n",
       "      <td>RPM</td>\n",
       "      <td>vitals</td>\n",
       "    </tr>\n",
       "  </tbody>\n",
       "</table>\n",
       "</div>"
      ],
      "text/plain": [
       "                                eventId                             patientId  \\\n",
       "0  dd2d9a42-73ae-11ea-9037-d077e516bc70  6aeaa7a0-229a-11ea-af9c-8a315723aae9   \n",
       "1  dd2d9a7e-73ae-11ea-9037-d077e516bc70  6aeaa7a0-229a-11ea-af9c-8a315723aae9   \n",
       "2  dd2d9a92-73ae-11ea-9037-d077e516bc70  6aeaa7a0-229a-11ea-af9c-8a315723aae9   \n",
       "3  dd2d9a9c-73ae-11ea-9037-d077e516bc70  6aeaa7a0-229a-11ea-af9c-8a315723aae9   \n",
       "4  dd2d9a9d-73ae-11ea-9037-d077e516bc70  6aeaa7a0-229a-11ea-af9c-8a315723aae9   \n",
       "\n",
       "            eventDate         eventName  resultValue resultUnit eventCategory  \n",
       "0 2013-08-06 00:20:00     Normal saline       1000.0         mL         bolus  \n",
       "1 2013-08-06 00:36:00      Diastolic BP         54.0       mmHg        vitals  \n",
       "2 2013-08-06 00:36:00      Diastolic BP         54.0       mmHg        vitals  \n",
       "3 2013-08-06 00:36:00       Systolic BP         96.0       mmHg        vitals  \n",
       "4 2013-08-06 00:36:00  Respiratory Rate         22.0        RPM        vitals  "
      ]
     },
     "execution_count": 33,
     "metadata": {},
     "output_type": "execute_result"
    }
   ],
   "source": [
    "df.head()"
   ]
  },
  {
   "cell_type": "code",
   "execution_count": 48,
   "metadata": {},
   "outputs": [
    {
     "data": {
      "text/plain": [
       "response    693\n",
       "self        161\n",
       "trigger      52\n",
       "Name: actionType, dtype: int64"
      ]
     },
     "execution_count": 48,
     "metadata": {},
     "output_type": "execute_result"
    }
   ],
   "source": [
    "df['actionType'] = df['eventCategory']\n",
    "df['actionType'] = df['actionType'].map({'vitals': 'response', 'labs': 'self', 'meds':'trigger', 'bolus':'trigger'})\n",
    "df['actionType'].value_counts()"
   ]
  },
  {
   "cell_type": "code",
   "execution_count": 49,
   "metadata": {},
   "outputs": [
    {
     "data": {
      "text/plain": [
       "(906, 8)"
      ]
     },
     "execution_count": 49,
     "metadata": {},
     "output_type": "execute_result"
    }
   ],
   "source": [
    "df.shape"
   ]
  },
  {
   "cell_type": "code",
   "execution_count": 50,
   "metadata": {},
   "outputs": [],
   "source": [
    "#df['eventDate']"
   ]
  },
  {
   "cell_type": "code",
   "execution_count": 51,
   "metadata": {},
   "outputs": [],
   "source": [
    "#df['eventDate'] = df['eventDate'].apply(lambda x: convert_date_col(x))\n",
    "#df['eventDate'] = df['eventDate'].apply(convert_date_col)"
   ]
  },
  {
   "cell_type": "code",
   "execution_count": 52,
   "metadata": {},
   "outputs": [
    {
     "data": {
      "text/html": [
       "<div>\n",
       "<style scoped>\n",
       "    .dataframe tbody tr th:only-of-type {\n",
       "        vertical-align: middle;\n",
       "    }\n",
       "\n",
       "    .dataframe tbody tr th {\n",
       "        vertical-align: top;\n",
       "    }\n",
       "\n",
       "    .dataframe thead th {\n",
       "        text-align: right;\n",
       "    }\n",
       "</style>\n",
       "<table border=\"1\" class=\"dataframe\">\n",
       "  <thead>\n",
       "    <tr style=\"text-align: right;\">\n",
       "      <th></th>\n",
       "      <th>patientId</th>\n",
       "      <th>counts</th>\n",
       "    </tr>\n",
       "  </thead>\n",
       "  <tbody>\n",
       "    <tr>\n",
       "      <td>0</td>\n",
       "      <td>6aeaa7a0-229a-11ea-af9c-8a315723aae9</td>\n",
       "      <td>282</td>\n",
       "    </tr>\n",
       "    <tr>\n",
       "      <td>1</td>\n",
       "      <td>6b046afa-229a-11ea-af9c-8a315723aae9</td>\n",
       "      <td>200</td>\n",
       "    </tr>\n",
       "    <tr>\n",
       "      <td>2</td>\n",
       "      <td>6b129580-229a-11ea-af9c-8a315723aae9</td>\n",
       "      <td>149</td>\n",
       "    </tr>\n",
       "    <tr>\n",
       "      <td>3</td>\n",
       "      <td>6b3f03e0-229a-11ea-af9c-8a315723aae9</td>\n",
       "      <td>144</td>\n",
       "    </tr>\n",
       "    <tr>\n",
       "      <td>4</td>\n",
       "      <td>6b5b905a-229a-11ea-af9c-8a315723aae9</td>\n",
       "      <td>131</td>\n",
       "    </tr>\n",
       "  </tbody>\n",
       "</table>\n",
       "</div>"
      ],
      "text/plain": [
       "                              patientId  counts\n",
       "0  6aeaa7a0-229a-11ea-af9c-8a315723aae9     282\n",
       "1  6b046afa-229a-11ea-af9c-8a315723aae9     200\n",
       "2  6b129580-229a-11ea-af9c-8a315723aae9     149\n",
       "3  6b3f03e0-229a-11ea-af9c-8a315723aae9     144\n",
       "4  6b5b905a-229a-11ea-af9c-8a315723aae9     131"
      ]
     },
     "execution_count": 52,
     "metadata": {},
     "output_type": "execute_result"
    }
   ],
   "source": [
    "df_pat = df['patientId'].value_counts().rename_axis('patientId').reset_index(name='counts')\n",
    "#df_pat['patientId'] = [uuid.uuid4() for _ in range(len(df_pat.index))]\n",
    "df_pat.head()"
   ]
  },
  {
   "cell_type": "code",
   "execution_count": 53,
   "metadata": {},
   "outputs": [
    {
     "data": {
      "text/plain": [
       "(5, 2)"
      ]
     },
     "execution_count": 53,
     "metadata": {},
     "output_type": "execute_result"
    }
   ],
   "source": [
    "df_pat.shape"
   ]
  },
  {
   "cell_type": "code",
   "execution_count": 54,
   "metadata": {},
   "outputs": [],
   "source": [
    "df.to_csv('output/dka_events_sorted.csv')\n",
    "df_pat.to_csv('output/dka_events_patients.csv')"
   ]
  },
  {
   "cell_type": "code",
   "execution_count": null,
   "metadata": {},
   "outputs": [],
   "source": []
  },
  {
   "cell_type": "code",
   "execution_count": 55,
   "metadata": {},
   "outputs": [
    {
     "data": {
      "text/html": [
       "<div>\n",
       "<style scoped>\n",
       "    .dataframe tbody tr th:only-of-type {\n",
       "        vertical-align: middle;\n",
       "    }\n",
       "\n",
       "    .dataframe tbody tr th {\n",
       "        vertical-align: top;\n",
       "    }\n",
       "\n",
       "    .dataframe thead th {\n",
       "        text-align: right;\n",
       "    }\n",
       "</style>\n",
       "<table border=\"1\" class=\"dataframe\">\n",
       "  <thead>\n",
       "    <tr style=\"text-align: right;\">\n",
       "      <th></th>\n",
       "      <th>prevEventId</th>\n",
       "      <th>eventId</th>\n",
       "      <th>patientId</th>\n",
       "    </tr>\n",
       "  </thead>\n",
       "  <tbody>\n",
       "    <tr>\n",
       "      <td>0</td>\n",
       "      <td>dd2d9a42-73ae-11ea-9037-d077e516bc70</td>\n",
       "      <td>dd2d9a7e-73ae-11ea-9037-d077e516bc70</td>\n",
       "      <td>6aeaa7a0-229a-11ea-af9c-8a315723aae9</td>\n",
       "    </tr>\n",
       "    <tr>\n",
       "      <td>1</td>\n",
       "      <td>dd2d9a7e-73ae-11ea-9037-d077e516bc70</td>\n",
       "      <td>dd2d9a92-73ae-11ea-9037-d077e516bc70</td>\n",
       "      <td>6aeaa7a0-229a-11ea-af9c-8a315723aae9</td>\n",
       "    </tr>\n",
       "    <tr>\n",
       "      <td>2</td>\n",
       "      <td>dd2d9a92-73ae-11ea-9037-d077e516bc70</td>\n",
       "      <td>dd2d9a9c-73ae-11ea-9037-d077e516bc70</td>\n",
       "      <td>6aeaa7a0-229a-11ea-af9c-8a315723aae9</td>\n",
       "    </tr>\n",
       "    <tr>\n",
       "      <td>3</td>\n",
       "      <td>dd2d9a9c-73ae-11ea-9037-d077e516bc70</td>\n",
       "      <td>dd2d9a9d-73ae-11ea-9037-d077e516bc70</td>\n",
       "      <td>6aeaa7a0-229a-11ea-af9c-8a315723aae9</td>\n",
       "    </tr>\n",
       "    <tr>\n",
       "      <td>4</td>\n",
       "      <td>dd2d9a9d-73ae-11ea-9037-d077e516bc70</td>\n",
       "      <td>dd2d9aa6-73ae-11ea-9037-d077e516bc70</td>\n",
       "      <td>6aeaa7a0-229a-11ea-af9c-8a315723aae9</td>\n",
       "    </tr>\n",
       "  </tbody>\n",
       "</table>\n",
       "</div>"
      ],
      "text/plain": [
       "                            prevEventId                               eventId  \\\n",
       "0  dd2d9a42-73ae-11ea-9037-d077e516bc70  dd2d9a7e-73ae-11ea-9037-d077e516bc70   \n",
       "1  dd2d9a7e-73ae-11ea-9037-d077e516bc70  dd2d9a92-73ae-11ea-9037-d077e516bc70   \n",
       "2  dd2d9a92-73ae-11ea-9037-d077e516bc70  dd2d9a9c-73ae-11ea-9037-d077e516bc70   \n",
       "3  dd2d9a9c-73ae-11ea-9037-d077e516bc70  dd2d9a9d-73ae-11ea-9037-d077e516bc70   \n",
       "4  dd2d9a9d-73ae-11ea-9037-d077e516bc70  dd2d9aa6-73ae-11ea-9037-d077e516bc70   \n",
       "\n",
       "                              patientId  \n",
       "0  6aeaa7a0-229a-11ea-af9c-8a315723aae9  \n",
       "1  6aeaa7a0-229a-11ea-af9c-8a315723aae9  \n",
       "2  6aeaa7a0-229a-11ea-af9c-8a315723aae9  \n",
       "3  6aeaa7a0-229a-11ea-af9c-8a315723aae9  \n",
       "4  6aeaa7a0-229a-11ea-af9c-8a315723aae9  "
      ]
     },
     "execution_count": 55,
     "metadata": {},
     "output_type": "execute_result"
    }
   ],
   "source": [
    "events = []\n",
    "prev_event_id = ''\n",
    "prev_pat_id = ''\n",
    "\n",
    "for idx, row in df.iterrows():\n",
    "    if prev_pat_id == row['patientId']:\n",
    "        cur_event = [prev_event_id, row['eventId'], row['patientId']]\n",
    "        events.append(cur_event)\n",
    "    \n",
    "    prev_event_id = row['eventId']\n",
    "    prev_pat_id = row['patientId']\n",
    "    \n",
    "df_linked_events = pd.DataFrame(events)\n",
    "df_linked_events.columns = ['prevEventId', 'eventId', 'patientId']\n",
    "df_linked_events.head()"
   ]
  },
  {
   "cell_type": "code",
   "execution_count": 56,
   "metadata": {},
   "outputs": [],
   "source": [
    "df_linked_events.to_csv('output/dka_linked_events.csv')"
   ]
  },
  {
   "cell_type": "code",
   "execution_count": null,
   "metadata": {
    "collapsed": true
   },
   "outputs": [],
   "source": []
  }
 ],
 "metadata": {
  "kernelspec": {
   "display_name": "Python 3",
   "language": "python",
   "name": "python3"
  },
  "language_info": {
   "codemirror_mode": {
    "name": "ipython",
    "version": 3
   },
   "file_extension": ".py",
   "mimetype": "text/x-python",
   "name": "python",
   "nbconvert_exporter": "python",
   "pygments_lexer": "ipython3",
   "version": "3.7.4"
  }
 },
 "nbformat": 4,
 "nbformat_minor": 2
}
