{
 "cells": [
  {
   "cell_type": "code",
   "execution_count": 4,
   "metadata": {},
   "outputs": [],
   "source": [
    "import mysql.connector as sql\n",
    "import pandas as pd\n",
    "import datetime\n",
    "import uuid\n"
   ]
  },
  {
   "cell_type": "code",
   "execution_count": 5,
   "metadata": {},
   "outputs": [],
   "source": [
    "def convert_date_col(date_str):\n",
    "    date_str = date_str[0:16]\n",
    "    try:\n",
    "        return datetime.datetime.strptime(date_str, '%m/%d/%Y %H:%M').strftime('%Y-%m-%dT%H:%M')\n",
    "    except:\n",
    "        return datetime.datetime.strptime(date_str, '%Y-%m-%d %H:%M').strftime('%Y-%m-%dT%H:%M')"
   ]
  },
  {
   "cell_type": "code",
   "execution_count": 6,
   "metadata": {},
   "outputs": [],
   "source": [
    "db_connection = sql.connect(host='localhost', database='benedict', user='root', password='artema2')"
   ]
  },
  {
   "cell_type": "code",
   "execution_count": 7,
   "metadata": {},
   "outputs": [],
   "source": [
    "qry = \"SELECT eventId, patientId, event_date  as eventDate, event_name AS eventName, result_val as resultValue, result_unit AS resultUnit, event_category AS eventCategory \"\n",
    "qry = qry + \"FROM benedict.sepsis_case_events e JOIN benedict.sepsis_case_patients p ON e.fin = p.fin \"\n",
    "qry = qry + \"ORDER BY patientId, eventDate \"\n",
    "#qry = qry + \"LIMIT 1000;\"\n",
    "\n",
    "\n",
    "df = pd.read_sql(qry, con=db_connection)"
   ]
  },
  {
   "cell_type": "code",
   "execution_count": 8,
   "metadata": {},
   "outputs": [
    {
     "data": {
      "text/html": [
       "<div>\n",
       "<style scoped>\n",
       "    .dataframe tbody tr th:only-of-type {\n",
       "        vertical-align: middle;\n",
       "    }\n",
       "\n",
       "    .dataframe tbody tr th {\n",
       "        vertical-align: top;\n",
       "    }\n",
       "\n",
       "    .dataframe thead th {\n",
       "        text-align: right;\n",
       "    }\n",
       "</style>\n",
       "<table border=\"1\" class=\"dataframe\">\n",
       "  <thead>\n",
       "    <tr style=\"text-align: right;\">\n",
       "      <th></th>\n",
       "      <th>eventId</th>\n",
       "      <th>patientId</th>\n",
       "      <th>eventDate</th>\n",
       "      <th>eventName</th>\n",
       "      <th>resultValue</th>\n",
       "      <th>resultUnit</th>\n",
       "      <th>eventCategory</th>\n",
       "    </tr>\n",
       "  </thead>\n",
       "  <tbody>\n",
       "    <tr>\n",
       "      <th>0</th>\n",
       "      <td>cd4d6094-57b7-11e9-99cb-e51ddd026e24</td>\n",
       "      <td>02298368-57b5-11e9-ad52-30582bd09167</td>\n",
       "      <td>12/18/2013 12:57</td>\n",
       "      <td>Diastolic BP</td>\n",
       "      <td>99.0</td>\n",
       "      <td>mmHg</td>\n",
       "      <td>vitals</td>\n",
       "    </tr>\n",
       "    <tr>\n",
       "      <th>1</th>\n",
       "      <td>dc98c872-57b7-11e9-99cb-e51ddd026e24</td>\n",
       "      <td>02298368-57b5-11e9-ad52-30582bd09167</td>\n",
       "      <td>12/18/2013 12:57</td>\n",
       "      <td>O2 Saturation</td>\n",
       "      <td>98.0</td>\n",
       "      <td>%</td>\n",
       "      <td>vitals</td>\n",
       "    </tr>\n",
       "    <tr>\n",
       "      <th>2</th>\n",
       "      <td>ea8ef398-57b7-11e9-99cb-e51ddd026e24</td>\n",
       "      <td>02298368-57b5-11e9-ad52-30582bd09167</td>\n",
       "      <td>12/18/2013 12:57</td>\n",
       "      <td>Pulse</td>\n",
       "      <td>72.0</td>\n",
       "      <td>BPM</td>\n",
       "      <td>vitals</td>\n",
       "    </tr>\n",
       "    <tr>\n",
       "      <th>3</th>\n",
       "      <td>f877962c-57b7-11e9-99cb-e51ddd026e24</td>\n",
       "      <td>02298368-57b5-11e9-ad52-30582bd09167</td>\n",
       "      <td>12/18/2013 12:57</td>\n",
       "      <td>Respiratory Rate</td>\n",
       "      <td>18.0</td>\n",
       "      <td>RPM</td>\n",
       "      <td>vitals</td>\n",
       "    </tr>\n",
       "    <tr>\n",
       "      <th>4</th>\n",
       "      <td>026b509c-57b8-11e9-99cb-e51ddd026e24</td>\n",
       "      <td>02298368-57b5-11e9-ad52-30582bd09167</td>\n",
       "      <td>12/18/2013 12:57</td>\n",
       "      <td>Systolic BP</td>\n",
       "      <td>164.0</td>\n",
       "      <td>mmHg</td>\n",
       "      <td>vitals</td>\n",
       "    </tr>\n",
       "  </tbody>\n",
       "</table>\n",
       "</div>"
      ],
      "text/plain": [
       "                                eventId                             patientId  \\\n",
       "0  cd4d6094-57b7-11e9-99cb-e51ddd026e24  02298368-57b5-11e9-ad52-30582bd09167   \n",
       "1  dc98c872-57b7-11e9-99cb-e51ddd026e24  02298368-57b5-11e9-ad52-30582bd09167   \n",
       "2  ea8ef398-57b7-11e9-99cb-e51ddd026e24  02298368-57b5-11e9-ad52-30582bd09167   \n",
       "3  f877962c-57b7-11e9-99cb-e51ddd026e24  02298368-57b5-11e9-ad52-30582bd09167   \n",
       "4  026b509c-57b8-11e9-99cb-e51ddd026e24  02298368-57b5-11e9-ad52-30582bd09167   \n",
       "\n",
       "          eventDate         eventName  resultValue resultUnit eventCategory  \n",
       "0  12/18/2013 12:57      Diastolic BP         99.0       mmHg        vitals  \n",
       "1  12/18/2013 12:57     O2 Saturation         98.0          %        vitals  \n",
       "2  12/18/2013 12:57             Pulse         72.0        BPM        vitals  \n",
       "3  12/18/2013 12:57  Respiratory Rate         18.0        RPM        vitals  \n",
       "4  12/18/2013 12:57       Systolic BP        164.0       mmHg        vitals  "
      ]
     },
     "execution_count": 8,
     "metadata": {},
     "output_type": "execute_result"
    }
   ],
   "source": [
    "df.head()"
   ]
  },
  {
   "cell_type": "code",
   "execution_count": 9,
   "metadata": {},
   "outputs": [
    {
     "data": {
      "text/plain": [
       "(1000, 7)"
      ]
     },
     "execution_count": 9,
     "metadata": {},
     "output_type": "execute_result"
    }
   ],
   "source": [
    "df.shape"
   ]
  },
  {
   "cell_type": "code",
   "execution_count": 10,
   "metadata": {},
   "outputs": [],
   "source": [
    "df['eventDate'] = df['eventDate'].apply(lambda x: convert_date_col(x))"
   ]
  },
  {
   "cell_type": "code",
   "execution_count": 12,
   "metadata": {
    "scrolled": true
   },
   "outputs": [
    {
     "data": {
      "text/html": [
       "<div>\n",
       "<style scoped>\n",
       "    .dataframe tbody tr th:only-of-type {\n",
       "        vertical-align: middle;\n",
       "    }\n",
       "\n",
       "    .dataframe tbody tr th {\n",
       "        vertical-align: top;\n",
       "    }\n",
       "\n",
       "    .dataframe thead th {\n",
       "        text-align: right;\n",
       "    }\n",
       "</style>\n",
       "<table border=\"1\" class=\"dataframe\">\n",
       "  <thead>\n",
       "    <tr style=\"text-align: right;\">\n",
       "      <th></th>\n",
       "      <th>eventId</th>\n",
       "      <th>patientId</th>\n",
       "      <th>eventDate</th>\n",
       "      <th>eventName</th>\n",
       "      <th>resultValue</th>\n",
       "      <th>resultUnit</th>\n",
       "      <th>eventCategory</th>\n",
       "    </tr>\n",
       "  </thead>\n",
       "  <tbody>\n",
       "    <tr>\n",
       "      <th>0</th>\n",
       "      <td>cd4d6094-57b7-11e9-99cb-e51ddd026e24</td>\n",
       "      <td>02298368-57b5-11e9-ad52-30582bd09167</td>\n",
       "      <td>2013-12-18T12:57</td>\n",
       "      <td>Diastolic BP</td>\n",
       "      <td>99.0</td>\n",
       "      <td>mmHg</td>\n",
       "      <td>vitals</td>\n",
       "    </tr>\n",
       "    <tr>\n",
       "      <th>1</th>\n",
       "      <td>dc98c872-57b7-11e9-99cb-e51ddd026e24</td>\n",
       "      <td>02298368-57b5-11e9-ad52-30582bd09167</td>\n",
       "      <td>2013-12-18T12:57</td>\n",
       "      <td>O2 Saturation</td>\n",
       "      <td>98.0</td>\n",
       "      <td>%</td>\n",
       "      <td>vitals</td>\n",
       "    </tr>\n",
       "    <tr>\n",
       "      <th>2</th>\n",
       "      <td>ea8ef398-57b7-11e9-99cb-e51ddd026e24</td>\n",
       "      <td>02298368-57b5-11e9-ad52-30582bd09167</td>\n",
       "      <td>2013-12-18T12:57</td>\n",
       "      <td>Pulse</td>\n",
       "      <td>72.0</td>\n",
       "      <td>BPM</td>\n",
       "      <td>vitals</td>\n",
       "    </tr>\n",
       "    <tr>\n",
       "      <th>3</th>\n",
       "      <td>f877962c-57b7-11e9-99cb-e51ddd026e24</td>\n",
       "      <td>02298368-57b5-11e9-ad52-30582bd09167</td>\n",
       "      <td>2013-12-18T12:57</td>\n",
       "      <td>Respiratory Rate</td>\n",
       "      <td>18.0</td>\n",
       "      <td>RPM</td>\n",
       "      <td>vitals</td>\n",
       "    </tr>\n",
       "    <tr>\n",
       "      <th>4</th>\n",
       "      <td>026b509c-57b8-11e9-99cb-e51ddd026e24</td>\n",
       "      <td>02298368-57b5-11e9-ad52-30582bd09167</td>\n",
       "      <td>2013-12-18T12:57</td>\n",
       "      <td>Systolic BP</td>\n",
       "      <td>164.0</td>\n",
       "      <td>mmHg</td>\n",
       "      <td>vitals</td>\n",
       "    </tr>\n",
       "  </tbody>\n",
       "</table>\n",
       "</div>"
      ],
      "text/plain": [
       "                                eventId                             patientId  \\\n",
       "0  cd4d6094-57b7-11e9-99cb-e51ddd026e24  02298368-57b5-11e9-ad52-30582bd09167   \n",
       "1  dc98c872-57b7-11e9-99cb-e51ddd026e24  02298368-57b5-11e9-ad52-30582bd09167   \n",
       "2  ea8ef398-57b7-11e9-99cb-e51ddd026e24  02298368-57b5-11e9-ad52-30582bd09167   \n",
       "3  f877962c-57b7-11e9-99cb-e51ddd026e24  02298368-57b5-11e9-ad52-30582bd09167   \n",
       "4  026b509c-57b8-11e9-99cb-e51ddd026e24  02298368-57b5-11e9-ad52-30582bd09167   \n",
       "\n",
       "          eventDate         eventName  resultValue resultUnit eventCategory  \n",
       "0  2013-12-18T12:57      Diastolic BP         99.0       mmHg        vitals  \n",
       "1  2013-12-18T12:57     O2 Saturation         98.0          %        vitals  \n",
       "2  2013-12-18T12:57             Pulse         72.0        BPM        vitals  \n",
       "3  2013-12-18T12:57  Respiratory Rate         18.0        RPM        vitals  \n",
       "4  2013-12-18T12:57       Systolic BP        164.0       mmHg        vitals  "
      ]
     },
     "execution_count": 12,
     "metadata": {},
     "output_type": "execute_result"
    }
   ],
   "source": [
    "df.head()"
   ]
  },
  {
   "cell_type": "code",
   "execution_count": 13,
   "metadata": {},
   "outputs": [
    {
     "data": {
      "text/html": [
       "<div>\n",
       "<style scoped>\n",
       "    .dataframe tbody tr th:only-of-type {\n",
       "        vertical-align: middle;\n",
       "    }\n",
       "\n",
       "    .dataframe tbody tr th {\n",
       "        vertical-align: top;\n",
       "    }\n",
       "\n",
       "    .dataframe thead th {\n",
       "        text-align: right;\n",
       "    }\n",
       "</style>\n",
       "<table border=\"1\" class=\"dataframe\">\n",
       "  <thead>\n",
       "    <tr style=\"text-align: right;\">\n",
       "      <th></th>\n",
       "      <th>patientId</th>\n",
       "      <th>counts</th>\n",
       "    </tr>\n",
       "  </thead>\n",
       "  <tbody>\n",
       "    <tr>\n",
       "      <th>0</th>\n",
       "      <td>02299484-57b5-11e9-ad52-30582bd09167</td>\n",
       "      <td>686</td>\n",
       "    </tr>\n",
       "    <tr>\n",
       "      <th>1</th>\n",
       "      <td>022994f2-57b5-11e9-ad52-30582bd09167</td>\n",
       "      <td>202</td>\n",
       "    </tr>\n",
       "    <tr>\n",
       "      <th>2</th>\n",
       "      <td>02298368-57b5-11e9-ad52-30582bd09167</td>\n",
       "      <td>112</td>\n",
       "    </tr>\n",
       "  </tbody>\n",
       "</table>\n",
       "</div>"
      ],
      "text/plain": [
       "                              patientId  counts\n",
       "0  02299484-57b5-11e9-ad52-30582bd09167     686\n",
       "1  022994f2-57b5-11e9-ad52-30582bd09167     202\n",
       "2  02298368-57b5-11e9-ad52-30582bd09167     112"
      ]
     },
     "execution_count": 13,
     "metadata": {},
     "output_type": "execute_result"
    }
   ],
   "source": [
    "df_pat = df['patientId'].value_counts().rename_axis('patientId').reset_index(name='counts')\n",
    "#df_pat['patientId'] = [uuid.uuid4() for _ in range(len(df_pat.index))]\n",
    "df_pat.head()"
   ]
  },
  {
   "cell_type": "code",
   "execution_count": 14,
   "metadata": {},
   "outputs": [],
   "source": [
    "df.to_csv('sepsis_events_sorted.csv')\n",
    "df_pat.to_csv('sepsis_events_patients.csv')"
   ]
  },
  {
   "cell_type": "code",
   "execution_count": null,
   "metadata": {},
   "outputs": [],
   "source": []
  }
 ],
 "metadata": {
  "kernelspec": {
   "display_name": "Python 3",
   "language": "python",
   "name": "python3"
  },
  "language_info": {
   "codemirror_mode": {
    "name": "ipython",
    "version": 3
   },
   "file_extension": ".py",
   "mimetype": "text/x-python",
   "name": "python",
   "nbconvert_exporter": "python",
   "pygments_lexer": "ipython3",
   "version": "3.7.1"
  }
 },
 "nbformat": 4,
 "nbformat_minor": 2
}
