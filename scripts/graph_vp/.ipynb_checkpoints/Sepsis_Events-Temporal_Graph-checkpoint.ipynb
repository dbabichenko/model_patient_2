{
 "cells": [
  {
   "cell_type": "code",
   "execution_count": 80,
   "metadata": {},
   "outputs": [],
   "source": [
    "import mysql.connector as sql\n",
    "import pandas as pd\n",
    "import datetime\n",
    "import uuid\n"
   ]
  },
  {
   "cell_type": "code",
   "execution_count": 81,
   "metadata": {},
   "outputs": [],
   "source": [
    "def convert_date_col(date_str):\n",
    "    date_str = date_str[0:16]\n",
    "    try:\n",
    "        return datetime.datetime.strptime(date_str, '%m/%d/%Y %H:%M').strftime('%Y-%m-%dT%H:%M')\n",
    "    except:\n",
    "        return datetime.datetime.strptime(date_str, '%Y-%m-%d %H:%M').strftime('%Y-%m-%dT%H:%M')"
   ]
  },
  {
   "cell_type": "code",
   "execution_count": 82,
   "metadata": {},
   "outputs": [],
   "source": [
    "db_connection = sql.connect(host='localhost', database='benedict', user='root', password='artema2')"
   ]
  },
  {
   "cell_type": "code",
   "execution_count": 83,
   "metadata": {},
   "outputs": [],
   "source": [
    "qry = \"SELECT fin, event_date  as eventDate, \"\n",
    "qry = qry + \"event_name AS eventName, result_val as resultValue, \"\n",
    "qry = qry + \"result_unit AS resultUnit, event_category AS eventCategory \"\n",
    "qry = qry + \"FROM benedict.sepsis_case_events ORDER BY fin, event_date \"\n",
    "# qry = qry + \" LIMIT 1000;\"\n",
    "df = pd.read_sql(qry, con=db_connection)"
   ]
  },
  {
   "cell_type": "code",
   "execution_count": 84,
   "metadata": {},
   "outputs": [
    {
     "data": {
      "text/html": [
       "<div>\n",
       "<style scoped>\n",
       "    .dataframe tbody tr th:only-of-type {\n",
       "        vertical-align: middle;\n",
       "    }\n",
       "\n",
       "    .dataframe tbody tr th {\n",
       "        vertical-align: top;\n",
       "    }\n",
       "\n",
       "    .dataframe thead th {\n",
       "        text-align: right;\n",
       "    }\n",
       "</style>\n",
       "<table border=\"1\" class=\"dataframe\">\n",
       "  <thead>\n",
       "    <tr style=\"text-align: right;\">\n",
       "      <th></th>\n",
       "      <th>fin</th>\n",
       "      <th>eventDate</th>\n",
       "      <th>eventName</th>\n",
       "      <th>resultValue</th>\n",
       "      <th>resultUnit</th>\n",
       "      <th>eventCategory</th>\n",
       "    </tr>\n",
       "  </thead>\n",
       "  <tbody>\n",
       "    <tr>\n",
       "      <th>0</th>\n",
       "      <td>+/wwoxFTiWTn</td>\n",
       "      <td>12/18/2013 12:57</td>\n",
       "      <td>Pulse</td>\n",
       "      <td>72.0</td>\n",
       "      <td>BPM</td>\n",
       "      <td>vitals</td>\n",
       "    </tr>\n",
       "    <tr>\n",
       "      <th>1</th>\n",
       "      <td>+/wwoxFTiWTn</td>\n",
       "      <td>12/18/2013 12:57</td>\n",
       "      <td>Temperature Conversion</td>\n",
       "      <td>37.1</td>\n",
       "      <td>DegC</td>\n",
       "      <td>vitals</td>\n",
       "    </tr>\n",
       "    <tr>\n",
       "      <th>2</th>\n",
       "      <td>+/wwoxFTiWTn</td>\n",
       "      <td>12/18/2013 12:57</td>\n",
       "      <td>Respiratory Rate</td>\n",
       "      <td>18.0</td>\n",
       "      <td>RPM</td>\n",
       "      <td>vitals</td>\n",
       "    </tr>\n",
       "    <tr>\n",
       "      <th>3</th>\n",
       "      <td>+/wwoxFTiWTn</td>\n",
       "      <td>12/18/2013 12:57</td>\n",
       "      <td>Systolic BP</td>\n",
       "      <td>164.0</td>\n",
       "      <td>mmHg</td>\n",
       "      <td>vitals</td>\n",
       "    </tr>\n",
       "    <tr>\n",
       "      <th>4</th>\n",
       "      <td>+/wwoxFTiWTn</td>\n",
       "      <td>12/18/2013 12:57</td>\n",
       "      <td>O2 Saturation</td>\n",
       "      <td>98.0</td>\n",
       "      <td>%</td>\n",
       "      <td>vitals</td>\n",
       "    </tr>\n",
       "  </tbody>\n",
       "</table>\n",
       "</div>"
      ],
      "text/plain": [
       "            fin         eventDate               eventName  resultValue  \\\n",
       "0  +/wwoxFTiWTn  12/18/2013 12:57                   Pulse         72.0   \n",
       "1  +/wwoxFTiWTn  12/18/2013 12:57  Temperature Conversion         37.1   \n",
       "2  +/wwoxFTiWTn  12/18/2013 12:57        Respiratory Rate         18.0   \n",
       "3  +/wwoxFTiWTn  12/18/2013 12:57             Systolic BP        164.0   \n",
       "4  +/wwoxFTiWTn  12/18/2013 12:57           O2 Saturation         98.0   \n",
       "\n",
       "  resultUnit eventCategory  \n",
       "0        BPM        vitals  \n",
       "1       DegC        vitals  \n",
       "2        RPM        vitals  \n",
       "3       mmHg        vitals  \n",
       "4          %        vitals  "
      ]
     },
     "execution_count": 84,
     "metadata": {},
     "output_type": "execute_result"
    }
   ],
   "source": [
    "df.head()"
   ]
  },
  {
   "cell_type": "code",
   "execution_count": 85,
   "metadata": {},
   "outputs": [
    {
     "data": {
      "text/plain": [
       "(1000, 6)"
      ]
     },
     "execution_count": 85,
     "metadata": {},
     "output_type": "execute_result"
    }
   ],
   "source": [
    "df.shape"
   ]
  },
  {
   "cell_type": "code",
   "execution_count": 86,
   "metadata": {},
   "outputs": [],
   "source": [
    "df['eventDate'] = df['eventDate'].apply(lambda x: convert_date_col(x))"
   ]
  },
  {
   "cell_type": "code",
   "execution_count": 87,
   "metadata": {
    "scrolled": true
   },
   "outputs": [
    {
     "data": {
      "text/html": [
       "<div>\n",
       "<style scoped>\n",
       "    .dataframe tbody tr th:only-of-type {\n",
       "        vertical-align: middle;\n",
       "    }\n",
       "\n",
       "    .dataframe tbody tr th {\n",
       "        vertical-align: top;\n",
       "    }\n",
       "\n",
       "    .dataframe thead th {\n",
       "        text-align: right;\n",
       "    }\n",
       "</style>\n",
       "<table border=\"1\" class=\"dataframe\">\n",
       "  <thead>\n",
       "    <tr style=\"text-align: right;\">\n",
       "      <th></th>\n",
       "      <th>fin</th>\n",
       "      <th>eventDate</th>\n",
       "      <th>eventName</th>\n",
       "      <th>resultValue</th>\n",
       "      <th>resultUnit</th>\n",
       "      <th>eventCategory</th>\n",
       "    </tr>\n",
       "  </thead>\n",
       "  <tbody>\n",
       "    <tr>\n",
       "      <th>0</th>\n",
       "      <td>+/wwoxFTiWTn</td>\n",
       "      <td>2013-12-18T12:57</td>\n",
       "      <td>Pulse</td>\n",
       "      <td>72.0</td>\n",
       "      <td>BPM</td>\n",
       "      <td>vitals</td>\n",
       "    </tr>\n",
       "    <tr>\n",
       "      <th>1</th>\n",
       "      <td>+/wwoxFTiWTn</td>\n",
       "      <td>2013-12-18T12:57</td>\n",
       "      <td>Temperature Conversion</td>\n",
       "      <td>37.1</td>\n",
       "      <td>DegC</td>\n",
       "      <td>vitals</td>\n",
       "    </tr>\n",
       "    <tr>\n",
       "      <th>2</th>\n",
       "      <td>+/wwoxFTiWTn</td>\n",
       "      <td>2013-12-18T12:57</td>\n",
       "      <td>Respiratory Rate</td>\n",
       "      <td>18.0</td>\n",
       "      <td>RPM</td>\n",
       "      <td>vitals</td>\n",
       "    </tr>\n",
       "    <tr>\n",
       "      <th>3</th>\n",
       "      <td>+/wwoxFTiWTn</td>\n",
       "      <td>2013-12-18T12:57</td>\n",
       "      <td>Systolic BP</td>\n",
       "      <td>164.0</td>\n",
       "      <td>mmHg</td>\n",
       "      <td>vitals</td>\n",
       "    </tr>\n",
       "    <tr>\n",
       "      <th>4</th>\n",
       "      <td>+/wwoxFTiWTn</td>\n",
       "      <td>2013-12-18T12:57</td>\n",
       "      <td>O2 Saturation</td>\n",
       "      <td>98.0</td>\n",
       "      <td>%</td>\n",
       "      <td>vitals</td>\n",
       "    </tr>\n",
       "  </tbody>\n",
       "</table>\n",
       "</div>"
      ],
      "text/plain": [
       "            fin         eventDate               eventName  resultValue  \\\n",
       "0  +/wwoxFTiWTn  2013-12-18T12:57                   Pulse         72.0   \n",
       "1  +/wwoxFTiWTn  2013-12-18T12:57  Temperature Conversion         37.1   \n",
       "2  +/wwoxFTiWTn  2013-12-18T12:57        Respiratory Rate         18.0   \n",
       "3  +/wwoxFTiWTn  2013-12-18T12:57             Systolic BP        164.0   \n",
       "4  +/wwoxFTiWTn  2013-12-18T12:57           O2 Saturation         98.0   \n",
       "\n",
       "  resultUnit eventCategory  \n",
       "0        BPM        vitals  \n",
       "1       DegC        vitals  \n",
       "2        RPM        vitals  \n",
       "3       mmHg        vitals  \n",
       "4          %        vitals  "
      ]
     },
     "execution_count": 87,
     "metadata": {},
     "output_type": "execute_result"
    }
   ],
   "source": [
    "df.head()"
   ]
  },
  {
   "cell_type": "code",
   "execution_count": 88,
   "metadata": {},
   "outputs": [
    {
     "data": {
      "text/html": [
       "<div>\n",
       "<style scoped>\n",
       "    .dataframe tbody tr th:only-of-type {\n",
       "        vertical-align: middle;\n",
       "    }\n",
       "\n",
       "    .dataframe tbody tr th {\n",
       "        vertical-align: top;\n",
       "    }\n",
       "\n",
       "    .dataframe thead th {\n",
       "        text-align: right;\n",
       "    }\n",
       "</style>\n",
       "<table border=\"1\" class=\"dataframe\">\n",
       "  <thead>\n",
       "    <tr style=\"text-align: right;\">\n",
       "      <th></th>\n",
       "      <th>fin</th>\n",
       "      <th>counts</th>\n",
       "      <th>patientId</th>\n",
       "    </tr>\n",
       "  </thead>\n",
       "  <tbody>\n",
       "    <tr>\n",
       "      <th>0</th>\n",
       "      <td>+0sUlZTDUJij</td>\n",
       "      <td>686</td>\n",
       "      <td>ec9a9928-1900-43c7-adf5-cc8c88125b14</td>\n",
       "    </tr>\n",
       "    <tr>\n",
       "      <th>1</th>\n",
       "      <td>+16f+oeBrbDV</td>\n",
       "      <td>202</td>\n",
       "      <td>5ef3a9ad-a228-4503-9731-bd69fcf77198</td>\n",
       "    </tr>\n",
       "    <tr>\n",
       "      <th>2</th>\n",
       "      <td>+/wwoxFTiWTn</td>\n",
       "      <td>112</td>\n",
       "      <td>c7ba8b9f-4585-4a09-87d3-3a3fb4673ab0</td>\n",
       "    </tr>\n",
       "  </tbody>\n",
       "</table>\n",
       "</div>"
      ],
      "text/plain": [
       "            fin  counts                             patientId\n",
       "0  +0sUlZTDUJij     686  ec9a9928-1900-43c7-adf5-cc8c88125b14\n",
       "1  +16f+oeBrbDV     202  5ef3a9ad-a228-4503-9731-bd69fcf77198\n",
       "2  +/wwoxFTiWTn     112  c7ba8b9f-4585-4a09-87d3-3a3fb4673ab0"
      ]
     },
     "execution_count": 88,
     "metadata": {},
     "output_type": "execute_result"
    }
   ],
   "source": [
    "df_pat = df['fin'].value_counts().rename_axis('fin').reset_index(name='counts')\n",
    "df_pat['patientId'] = [uuid.uuid4() for _ in range(len(df_pat.index))]\n",
    "df_pat.head()"
   ]
  },
  {
   "cell_type": "code",
   "execution_count": 89,
   "metadata": {},
   "outputs": [
    {
     "data": {
      "text/html": [
       "<div>\n",
       "<style scoped>\n",
       "    .dataframe tbody tr th:only-of-type {\n",
       "        vertical-align: middle;\n",
       "    }\n",
       "\n",
       "    .dataframe tbody tr th {\n",
       "        vertical-align: top;\n",
       "    }\n",
       "\n",
       "    .dataframe thead th {\n",
       "        text-align: right;\n",
       "    }\n",
       "</style>\n",
       "<table border=\"1\" class=\"dataframe\">\n",
       "  <thead>\n",
       "    <tr style=\"text-align: right;\">\n",
       "      <th></th>\n",
       "      <th>fin</th>\n",
       "      <th>eventDate</th>\n",
       "      <th>eventName</th>\n",
       "      <th>resultValue</th>\n",
       "      <th>resultUnit</th>\n",
       "      <th>eventCategory</th>\n",
       "      <th>counts</th>\n",
       "      <th>patientId</th>\n",
       "    </tr>\n",
       "  </thead>\n",
       "  <tbody>\n",
       "    <tr>\n",
       "      <th>0</th>\n",
       "      <td>+/wwoxFTiWTn</td>\n",
       "      <td>2013-12-18T12:57</td>\n",
       "      <td>Pulse</td>\n",
       "      <td>72.0</td>\n",
       "      <td>BPM</td>\n",
       "      <td>vitals</td>\n",
       "      <td>112</td>\n",
       "      <td>c7ba8b9f-4585-4a09-87d3-3a3fb4673ab0</td>\n",
       "    </tr>\n",
       "    <tr>\n",
       "      <th>1</th>\n",
       "      <td>+/wwoxFTiWTn</td>\n",
       "      <td>2013-12-18T12:57</td>\n",
       "      <td>Temperature Conversion</td>\n",
       "      <td>37.1</td>\n",
       "      <td>DegC</td>\n",
       "      <td>vitals</td>\n",
       "      <td>112</td>\n",
       "      <td>c7ba8b9f-4585-4a09-87d3-3a3fb4673ab0</td>\n",
       "    </tr>\n",
       "    <tr>\n",
       "      <th>2</th>\n",
       "      <td>+/wwoxFTiWTn</td>\n",
       "      <td>2013-12-18T12:57</td>\n",
       "      <td>Respiratory Rate</td>\n",
       "      <td>18.0</td>\n",
       "      <td>RPM</td>\n",
       "      <td>vitals</td>\n",
       "      <td>112</td>\n",
       "      <td>c7ba8b9f-4585-4a09-87d3-3a3fb4673ab0</td>\n",
       "    </tr>\n",
       "    <tr>\n",
       "      <th>3</th>\n",
       "      <td>+/wwoxFTiWTn</td>\n",
       "      <td>2013-12-18T12:57</td>\n",
       "      <td>Systolic BP</td>\n",
       "      <td>164.0</td>\n",
       "      <td>mmHg</td>\n",
       "      <td>vitals</td>\n",
       "      <td>112</td>\n",
       "      <td>c7ba8b9f-4585-4a09-87d3-3a3fb4673ab0</td>\n",
       "    </tr>\n",
       "    <tr>\n",
       "      <th>4</th>\n",
       "      <td>+/wwoxFTiWTn</td>\n",
       "      <td>2013-12-18T12:57</td>\n",
       "      <td>O2 Saturation</td>\n",
       "      <td>98.0</td>\n",
       "      <td>%</td>\n",
       "      <td>vitals</td>\n",
       "      <td>112</td>\n",
       "      <td>c7ba8b9f-4585-4a09-87d3-3a3fb4673ab0</td>\n",
       "    </tr>\n",
       "  </tbody>\n",
       "</table>\n",
       "</div>"
      ],
      "text/plain": [
       "            fin         eventDate               eventName  resultValue  \\\n",
       "0  +/wwoxFTiWTn  2013-12-18T12:57                   Pulse         72.0   \n",
       "1  +/wwoxFTiWTn  2013-12-18T12:57  Temperature Conversion         37.1   \n",
       "2  +/wwoxFTiWTn  2013-12-18T12:57        Respiratory Rate         18.0   \n",
       "3  +/wwoxFTiWTn  2013-12-18T12:57             Systolic BP        164.0   \n",
       "4  +/wwoxFTiWTn  2013-12-18T12:57           O2 Saturation         98.0   \n",
       "\n",
       "  resultUnit eventCategory  counts                             patientId  \n",
       "0        BPM        vitals     112  c7ba8b9f-4585-4a09-87d3-3a3fb4673ab0  \n",
       "1       DegC        vitals     112  c7ba8b9f-4585-4a09-87d3-3a3fb4673ab0  \n",
       "2        RPM        vitals     112  c7ba8b9f-4585-4a09-87d3-3a3fb4673ab0  \n",
       "3       mmHg        vitals     112  c7ba8b9f-4585-4a09-87d3-3a3fb4673ab0  \n",
       "4          %        vitals     112  c7ba8b9f-4585-4a09-87d3-3a3fb4673ab0  "
      ]
     },
     "execution_count": 89,
     "metadata": {},
     "output_type": "execute_result"
    }
   ],
   "source": [
    "df_events = pd.merge(df, df_pat, on='fin', how='inner')\n",
    "df_events.head()"
   ]
  },
  {
   "cell_type": "code",
   "execution_count": 91,
   "metadata": {},
   "outputs": [],
   "source": [
    "df_events = df_events[['patientId', 'eventDate', 'eventName', 'resultValue', 'resultUnit', 'eventCategory']]"
   ]
  },
  {
   "cell_type": "code",
   "execution_count": 92,
   "metadata": {},
   "outputs": [],
   "source": [
    "df_events.to_csv('sepsis_events_sorted.csv')\n",
    "df_pat.to_csv('sepsis_events_patients.csv')"
   ]
  },
  {
   "cell_type": "code",
   "execution_count": null,
   "metadata": {},
   "outputs": [],
   "source": []
  }
 ],
 "metadata": {
  "kernelspec": {
   "display_name": "Python 3",
   "language": "python",
   "name": "python3"
  },
  "language_info": {
   "codemirror_mode": {
    "name": "ipython",
    "version": 3
   },
   "file_extension": ".py",
   "mimetype": "text/x-python",
   "name": "python",
   "nbconvert_exporter": "python",
   "pygments_lexer": "ipython3",
   "version": "3.7.1"
  }
 },
 "nbformat": 4,
 "nbformat_minor": 2
}
