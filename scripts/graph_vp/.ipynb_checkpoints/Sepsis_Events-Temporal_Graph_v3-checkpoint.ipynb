{
 "cells": [
  {
   "cell_type": "code",
   "execution_count": 8,
   "metadata": {},
   "outputs": [],
   "source": [
    "import mysql.connector as sql\n",
    "import pandas as pd\n",
    "import datetime\n",
    "import uuid\n"
   ]
  },
  {
   "cell_type": "code",
   "execution_count": 9,
   "metadata": {},
   "outputs": [],
   "source": [
    "def convert_date_col(date_str):\n",
    "    date_str = date_str[0:16]\n",
    "    try:\n",
    "        return datetime.datetime.strptime(date_str, '%m/%d/%Y %H:%M').strftime('%Y-%m-%dT%H:%M')\n",
    "    except:\n",
    "        return datetime.datetime.strptime(date_str, '%Y-%m-%d %H:%M').strftime('%Y-%m-%dT%H:%M')"
   ]
  },
  {
   "cell_type": "code",
   "execution_count": 10,
   "metadata": {},
   "outputs": [],
   "source": [
    "db_connection = sql.connect(host='localhost', database='benedict', user='root', password='artema2')"
   ]
  },
  {
   "cell_type": "code",
   "execution_count": 11,
   "metadata": {},
   "outputs": [],
   "source": [
    "patients = ['022aaa36-57b5-11e9-ad52-30582bd09167',\n",
    "'0229e1a0-57b5-11e9-ad52-30582bd09167',\n",
    "'022bc088-57b5-11e9-ad52-30582bd09167',\n",
    "'022a2642-57b5-11e9-ad52-30582bd09167',\n",
    "'022ad72c-57b5-11e9-ad52-30582bd09167',\n",
    "'0229fc8a-57b5-11e9-ad52-30582bd09167',\n",
    "'022be590-57b5-11e9-ad52-30582bd09167',\n",
    "'022ae0aa-57b5-11e9-ad52-30582bd09167',\n",
    "'0229b734-57b5-11e9-ad52-30582bd09167',\n",
    "'0229c8b4-57b5-11e9-ad52-30582bd09167',\n",
    "'022b8898-57b5-11e9-ad52-30582bd09167',\n",
    "'022a924e-57b5-11e9-ad52-30582bd09167',\n",
    "'022a2c6e-57b5-11e9-ad52-30582bd09167',\n",
    "'022c345a-57b5-11e9-ad52-30582bd09167',\n",
    "'022aeee2-57b5-11e9-ad52-30582bd09167',\n",
    "'022a0c84-57b5-11e9-ad52-30582bd09167',\n",
    "'022a1710-57b5-11e9-ad52-30582bd09167',\n",
    "'022bfd3c-57b5-11e9-ad52-30582bd09167',\n",
    "'022b78c6-57b5-11e9-ad52-30582bd09167',\n",
    "'022bfdc8-57b5-11e9-ad52-30582bd09167',\n",
    "'022a99ba-57b5-11e9-ad52-30582bd09167',\n",
    "'022c21a4-57b5-11e9-ad52-30582bd09167',\n",
    "'022b5940-57b5-11e9-ad52-30582bd09167',\n",
    "'02299fe2-57b5-11e9-ad52-30582bd09167',\n",
    "'022a1f62-57b5-11e9-ad52-30582bd09167',\n",
    "'022b1a2a-57b5-11e9-ad52-30582bd09167',\n",
    "'022bdeec-57b5-11e9-ad52-30582bd09167',\n",
    "'022aadba-57b5-11e9-ad52-30582bd09167',\n",
    "'022a933e-57b5-11e9-ad52-30582bd09167',\n",
    "'0229ef4c-57b5-11e9-ad52-30582bd09167',\n",
    "'022a0248-57b5-11e9-ad52-30582bd09167',\n",
    "'022afe14-57b5-11e9-ad52-30582bd09167',\n",
    "'022aedca-57b5-11e9-ad52-30582bd09167',\n",
    "'0229ee52-57b5-11e9-ad52-30582bd09167',\n",
    "'022af612-57b5-11e9-ad52-30582bd09167',\n",
    "'022ad3bc-57b5-11e9-ad52-30582bd09167',\n",
    "'022bfb7a-57b5-11e9-ad52-30582bd09167',\n",
    "'022bf9ae-57b5-11e9-ad52-30582bd09167',\n",
    "'0229f06e-57b5-11e9-ad52-30582bd09167',\n",
    "'022b7bfa-57b5-11e9-ad52-30582bd09167',\n",
    "'0229c0e4-57b5-11e9-ad52-30582bd09167',\n",
    "'022b7c72-57b5-11e9-ad52-30582bd09167',\n",
    "'022a1c06-57b5-11e9-ad52-30582bd09167',\n",
    "'022adc22-57b5-11e9-ad52-30582bd09167',\n",
    "'022bfbd4-57b5-11e9-ad52-30582bd09167',\n",
    "'022bc132-57b5-11e9-ad52-30582bd09167',\n",
    "'022b1458-57b5-11e9-ad52-30582bd09167',\n",
    "'022ad3e4-57b5-11e9-ad52-30582bd09167',\n",
    "'0229a67c-57b5-11e9-ad52-30582bd09167',\n",
    "'022bb278-57b5-11e9-ad52-30582bd09167']"
   ]
  },
  {
   "cell_type": "code",
   "execution_count": 12,
   "metadata": {},
   "outputs": [
    {
     "data": {
      "text/plain": [
       "['022aaa36-57b5-11e9-ad52-30582bd09167',\n",
       " '0229e1a0-57b5-11e9-ad52-30582bd09167',\n",
       " '022bc088-57b5-11e9-ad52-30582bd09167',\n",
       " '022a2642-57b5-11e9-ad52-30582bd09167',\n",
       " '022ad72c-57b5-11e9-ad52-30582bd09167',\n",
       " '0229fc8a-57b5-11e9-ad52-30582bd09167',\n",
       " '022be590-57b5-11e9-ad52-30582bd09167',\n",
       " '022ae0aa-57b5-11e9-ad52-30582bd09167',\n",
       " '0229b734-57b5-11e9-ad52-30582bd09167',\n",
       " '0229c8b4-57b5-11e9-ad52-30582bd09167']"
      ]
     },
     "execution_count": 12,
     "metadata": {},
     "output_type": "execute_result"
    }
   ],
   "source": [
    "patients[0:10]"
   ]
  },
  {
   "cell_type": "code",
   "execution_count": 13,
   "metadata": {},
   "outputs": [
    {
     "name": "stdout",
     "output_type": "stream",
     "text": [
      "SELECT eventId, patientId, event_date  as eventDate, event_name AS eventName, result_val as resultValue, result_unit AS resultUnit, event_category AS eventCategory FROM benedict.sepsis_case_events e JOIN benedict.sepsis_case_patients p ON e.fin = p.fin WHERE patientId IN ('022aaa36-57b5-11e9-ad52-30582bd09167', '0229e1a0-57b5-11e9-ad52-30582bd09167', '022bc088-57b5-11e9-ad52-30582bd09167', '022a2642-57b5-11e9-ad52-30582bd09167', '022ad72c-57b5-11e9-ad52-30582bd09167', '0229fc8a-57b5-11e9-ad52-30582bd09167', '022be590-57b5-11e9-ad52-30582bd09167', '022ae0aa-57b5-11e9-ad52-30582bd09167', '0229b734-57b5-11e9-ad52-30582bd09167', '0229c8b4-57b5-11e9-ad52-30582bd09167') \n"
     ]
    }
   ],
   "source": [
    "qry = \"SELECT eventId, patientId, event_date  as eventDate, event_name AS eventName, result_val as resultValue, result_unit AS resultUnit, event_category AS eventCategory \"\n",
    "qry = qry + \"FROM benedict.sepsis_case_events e JOIN benedict.sepsis_case_patients p ON e.fin = p.fin \"\n",
    "#qry = qry + \"WHERE patientId IN (\" + str(patients[0:10]).replace('[', '').replace(']', '') + \") \"\n",
    "qry = qry + \" ORDER BY patientId, eventDate \"\n",
    "#qry = qry + \"LIMIT 1000;\"\n",
    "\n",
    "print(qry)\n"
   ]
  },
  {
   "cell_type": "code",
   "execution_count": 14,
   "metadata": {},
   "outputs": [],
   "source": [
    "df = pd.read_sql(qry, con=db_connection)"
   ]
  },
  {
   "cell_type": "code",
   "execution_count": 16,
   "metadata": {},
   "outputs": [
    {
     "data": {
      "text/plain": [
       "(13309, 7)"
      ]
     },
     "execution_count": 16,
     "metadata": {},
     "output_type": "execute_result"
    }
   ],
   "source": [
    "df.shape"
   ]
  },
  {
   "cell_type": "code",
   "execution_count": 23,
   "metadata": {},
   "outputs": [
    {
     "data": {
      "text/html": [
       "<div>\n",
       "<style scoped>\n",
       "    .dataframe tbody tr th:only-of-type {\n",
       "        vertical-align: middle;\n",
       "    }\n",
       "\n",
       "    .dataframe tbody tr th {\n",
       "        vertical-align: top;\n",
       "    }\n",
       "\n",
       "    .dataframe thead th {\n",
       "        text-align: right;\n",
       "    }\n",
       "</style>\n",
       "<table border=\"1\" class=\"dataframe\">\n",
       "  <thead>\n",
       "    <tr style=\"text-align: right;\">\n",
       "      <th></th>\n",
       "      <th>eventId</th>\n",
       "      <th>patientId</th>\n",
       "      <th>eventDate</th>\n",
       "      <th>eventName</th>\n",
       "      <th>resultValue</th>\n",
       "      <th>resultUnit</th>\n",
       "      <th>eventCategory</th>\n",
       "    </tr>\n",
       "  </thead>\n",
       "  <tbody>\n",
       "    <tr>\n",
       "      <th>0</th>\n",
       "      <td>143c49de-57b8-11e9-99cb-e51ddd026e24</td>\n",
       "      <td>0229b734-57b5-11e9-ad52-30582bd09167</td>\n",
       "      <td>04/17/2014 13:01</td>\n",
       "      <td>Temperature Conversion</td>\n",
       "      <td>37.1</td>\n",
       "      <td>DegC</td>\n",
       "      <td>vitals</td>\n",
       "    </tr>\n",
       "    <tr>\n",
       "      <th>1</th>\n",
       "      <td>cae60932-57b7-11e9-99cb-e51ddd026e24</td>\n",
       "      <td>0229b734-57b5-11e9-ad52-30582bd09167</td>\n",
       "      <td>04/17/2014 13:01</td>\n",
       "      <td>Diastolic BP</td>\n",
       "      <td>130.0</td>\n",
       "      <td>mmHg</td>\n",
       "      <td>vitals</td>\n",
       "    </tr>\n",
       "    <tr>\n",
       "      <th>2</th>\n",
       "      <td>e5936a4a-57b7-11e9-99cb-e51ddd026e24</td>\n",
       "      <td>0229b734-57b5-11e9-ad52-30582bd09167</td>\n",
       "      <td>04/17/2014 13:01</td>\n",
       "      <td>Pulse</td>\n",
       "      <td>93.0</td>\n",
       "      <td>BPM</td>\n",
       "      <td>vitals</td>\n",
       "    </tr>\n",
       "    <tr>\n",
       "      <th>3</th>\n",
       "      <td>ff2bb8a4-57b7-11e9-99cb-e51ddd026e24</td>\n",
       "      <td>0229b734-57b5-11e9-ad52-30582bd09167</td>\n",
       "      <td>04/17/2014 13:01</td>\n",
       "      <td>Systolic BP</td>\n",
       "      <td>192.0</td>\n",
       "      <td>mmHg</td>\n",
       "      <td>vitals</td>\n",
       "    </tr>\n",
       "    <tr>\n",
       "      <th>4</th>\n",
       "      <td>d65246c8-57b7-11e9-99cb-e51ddd026e24</td>\n",
       "      <td>0229b734-57b5-11e9-ad52-30582bd09167</td>\n",
       "      <td>04/17/2014 13:01</td>\n",
       "      <td>O2 Saturation</td>\n",
       "      <td>89.0</td>\n",
       "      <td>%</td>\n",
       "      <td>vitals</td>\n",
       "    </tr>\n",
       "  </tbody>\n",
       "</table>\n",
       "</div>"
      ],
      "text/plain": [
       "                                eventId                             patientId  \\\n",
       "0  143c49de-57b8-11e9-99cb-e51ddd026e24  0229b734-57b5-11e9-ad52-30582bd09167   \n",
       "1  cae60932-57b7-11e9-99cb-e51ddd026e24  0229b734-57b5-11e9-ad52-30582bd09167   \n",
       "2  e5936a4a-57b7-11e9-99cb-e51ddd026e24  0229b734-57b5-11e9-ad52-30582bd09167   \n",
       "3  ff2bb8a4-57b7-11e9-99cb-e51ddd026e24  0229b734-57b5-11e9-ad52-30582bd09167   \n",
       "4  d65246c8-57b7-11e9-99cb-e51ddd026e24  0229b734-57b5-11e9-ad52-30582bd09167   \n",
       "\n",
       "          eventDate               eventName  resultValue resultUnit  \\\n",
       "0  04/17/2014 13:01  Temperature Conversion         37.1       DegC   \n",
       "1  04/17/2014 13:01            Diastolic BP        130.0       mmHg   \n",
       "2  04/17/2014 13:01                   Pulse         93.0        BPM   \n",
       "3  04/17/2014 13:01             Systolic BP        192.0       mmHg   \n",
       "4  04/17/2014 13:01           O2 Saturation         89.0          %   \n",
       "\n",
       "  eventCategory  \n",
       "0        vitals  \n",
       "1        vitals  \n",
       "2        vitals  \n",
       "3        vitals  \n",
       "4        vitals  "
      ]
     },
     "execution_count": 23,
     "metadata": {},
     "output_type": "execute_result"
    }
   ],
   "source": [
    "df.head()"
   ]
  },
  {
   "cell_type": "code",
   "execution_count": 24,
   "metadata": {},
   "outputs": [
    {
     "data": {
      "text/plain": [
       "(13309, 7)"
      ]
     },
     "execution_count": 24,
     "metadata": {},
     "output_type": "execute_result"
    }
   ],
   "source": [
    "df.shape"
   ]
  },
  {
   "cell_type": "code",
   "execution_count": 25,
   "metadata": {},
   "outputs": [],
   "source": [
    "df['eventDate'] = df['eventDate'].apply(lambda x: convert_date_col(x))"
   ]
  },
  {
   "cell_type": "code",
   "execution_count": 26,
   "metadata": {
    "scrolled": true
   },
   "outputs": [
    {
     "data": {
      "text/html": [
       "<div>\n",
       "<style scoped>\n",
       "    .dataframe tbody tr th:only-of-type {\n",
       "        vertical-align: middle;\n",
       "    }\n",
       "\n",
       "    .dataframe tbody tr th {\n",
       "        vertical-align: top;\n",
       "    }\n",
       "\n",
       "    .dataframe thead th {\n",
       "        text-align: right;\n",
       "    }\n",
       "</style>\n",
       "<table border=\"1\" class=\"dataframe\">\n",
       "  <thead>\n",
       "    <tr style=\"text-align: right;\">\n",
       "      <th></th>\n",
       "      <th>eventId</th>\n",
       "      <th>patientId</th>\n",
       "      <th>eventDate</th>\n",
       "      <th>eventName</th>\n",
       "      <th>resultValue</th>\n",
       "      <th>resultUnit</th>\n",
       "      <th>eventCategory</th>\n",
       "    </tr>\n",
       "  </thead>\n",
       "  <tbody>\n",
       "    <tr>\n",
       "      <th>0</th>\n",
       "      <td>143c49de-57b8-11e9-99cb-e51ddd026e24</td>\n",
       "      <td>0229b734-57b5-11e9-ad52-30582bd09167</td>\n",
       "      <td>2014-04-17T13:01</td>\n",
       "      <td>Temperature Conversion</td>\n",
       "      <td>37.1</td>\n",
       "      <td>DegC</td>\n",
       "      <td>vitals</td>\n",
       "    </tr>\n",
       "    <tr>\n",
       "      <th>1</th>\n",
       "      <td>cae60932-57b7-11e9-99cb-e51ddd026e24</td>\n",
       "      <td>0229b734-57b5-11e9-ad52-30582bd09167</td>\n",
       "      <td>2014-04-17T13:01</td>\n",
       "      <td>Diastolic BP</td>\n",
       "      <td>130.0</td>\n",
       "      <td>mmHg</td>\n",
       "      <td>vitals</td>\n",
       "    </tr>\n",
       "    <tr>\n",
       "      <th>2</th>\n",
       "      <td>e5936a4a-57b7-11e9-99cb-e51ddd026e24</td>\n",
       "      <td>0229b734-57b5-11e9-ad52-30582bd09167</td>\n",
       "      <td>2014-04-17T13:01</td>\n",
       "      <td>Pulse</td>\n",
       "      <td>93.0</td>\n",
       "      <td>BPM</td>\n",
       "      <td>vitals</td>\n",
       "    </tr>\n",
       "    <tr>\n",
       "      <th>3</th>\n",
       "      <td>ff2bb8a4-57b7-11e9-99cb-e51ddd026e24</td>\n",
       "      <td>0229b734-57b5-11e9-ad52-30582bd09167</td>\n",
       "      <td>2014-04-17T13:01</td>\n",
       "      <td>Systolic BP</td>\n",
       "      <td>192.0</td>\n",
       "      <td>mmHg</td>\n",
       "      <td>vitals</td>\n",
       "    </tr>\n",
       "    <tr>\n",
       "      <th>4</th>\n",
       "      <td>d65246c8-57b7-11e9-99cb-e51ddd026e24</td>\n",
       "      <td>0229b734-57b5-11e9-ad52-30582bd09167</td>\n",
       "      <td>2014-04-17T13:01</td>\n",
       "      <td>O2 Saturation</td>\n",
       "      <td>89.0</td>\n",
       "      <td>%</td>\n",
       "      <td>vitals</td>\n",
       "    </tr>\n",
       "  </tbody>\n",
       "</table>\n",
       "</div>"
      ],
      "text/plain": [
       "                                eventId                             patientId  \\\n",
       "0  143c49de-57b8-11e9-99cb-e51ddd026e24  0229b734-57b5-11e9-ad52-30582bd09167   \n",
       "1  cae60932-57b7-11e9-99cb-e51ddd026e24  0229b734-57b5-11e9-ad52-30582bd09167   \n",
       "2  e5936a4a-57b7-11e9-99cb-e51ddd026e24  0229b734-57b5-11e9-ad52-30582bd09167   \n",
       "3  ff2bb8a4-57b7-11e9-99cb-e51ddd026e24  0229b734-57b5-11e9-ad52-30582bd09167   \n",
       "4  d65246c8-57b7-11e9-99cb-e51ddd026e24  0229b734-57b5-11e9-ad52-30582bd09167   \n",
       "\n",
       "          eventDate               eventName  resultValue resultUnit  \\\n",
       "0  2014-04-17T13:01  Temperature Conversion         37.1       DegC   \n",
       "1  2014-04-17T13:01            Diastolic BP        130.0       mmHg   \n",
       "2  2014-04-17T13:01                   Pulse         93.0        BPM   \n",
       "3  2014-04-17T13:01             Systolic BP        192.0       mmHg   \n",
       "4  2014-04-17T13:01           O2 Saturation         89.0          %   \n",
       "\n",
       "  eventCategory  \n",
       "0        vitals  \n",
       "1        vitals  \n",
       "2        vitals  \n",
       "3        vitals  \n",
       "4        vitals  "
      ]
     },
     "execution_count": 26,
     "metadata": {},
     "output_type": "execute_result"
    }
   ],
   "source": [
    "df.head()"
   ]
  },
  {
   "cell_type": "code",
   "execution_count": 27,
   "metadata": {},
   "outputs": [
    {
     "data": {
      "text/plain": [
       "eventId          0\n",
       "patientId        0\n",
       "eventDate        0\n",
       "eventName        0\n",
       "resultValue      0\n",
       "resultUnit       0\n",
       "eventCategory    0\n",
       "dtype: int64"
      ]
     },
     "execution_count": 27,
     "metadata": {},
     "output_type": "execute_result"
    }
   ],
   "source": [
    "df.isnull().sum()"
   ]
  },
  {
   "cell_type": "code",
   "execution_count": 28,
   "metadata": {},
   "outputs": [
    {
     "data": {
      "text/html": [
       "<div>\n",
       "<style scoped>\n",
       "    .dataframe tbody tr th:only-of-type {\n",
       "        vertical-align: middle;\n",
       "    }\n",
       "\n",
       "    .dataframe tbody tr th {\n",
       "        vertical-align: top;\n",
       "    }\n",
       "\n",
       "    .dataframe thead th {\n",
       "        text-align: right;\n",
       "    }\n",
       "</style>\n",
       "<table border=\"1\" class=\"dataframe\">\n",
       "  <thead>\n",
       "    <tr style=\"text-align: right;\">\n",
       "      <th></th>\n",
       "      <th>patientId</th>\n",
       "      <th>counts</th>\n",
       "    </tr>\n",
       "  </thead>\n",
       "  <tbody>\n",
       "    <tr>\n",
       "      <th>0</th>\n",
       "      <td>022ad72c-57b5-11e9-ad52-30582bd09167</td>\n",
       "      <td>4303</td>\n",
       "    </tr>\n",
       "    <tr>\n",
       "      <th>1</th>\n",
       "      <td>022be590-57b5-11e9-ad52-30582bd09167</td>\n",
       "      <td>3447</td>\n",
       "    </tr>\n",
       "    <tr>\n",
       "      <th>2</th>\n",
       "      <td>022bc088-57b5-11e9-ad52-30582bd09167</td>\n",
       "      <td>2117</td>\n",
       "    </tr>\n",
       "    <tr>\n",
       "      <th>3</th>\n",
       "      <td>0229b734-57b5-11e9-ad52-30582bd09167</td>\n",
       "      <td>889</td>\n",
       "    </tr>\n",
       "    <tr>\n",
       "      <th>4</th>\n",
       "      <td>0229fc8a-57b5-11e9-ad52-30582bd09167</td>\n",
       "      <td>697</td>\n",
       "    </tr>\n",
       "  </tbody>\n",
       "</table>\n",
       "</div>"
      ],
      "text/plain": [
       "                              patientId  counts\n",
       "0  022ad72c-57b5-11e9-ad52-30582bd09167    4303\n",
       "1  022be590-57b5-11e9-ad52-30582bd09167    3447\n",
       "2  022bc088-57b5-11e9-ad52-30582bd09167    2117\n",
       "3  0229b734-57b5-11e9-ad52-30582bd09167     889\n",
       "4  0229fc8a-57b5-11e9-ad52-30582bd09167     697"
      ]
     },
     "execution_count": 28,
     "metadata": {},
     "output_type": "execute_result"
    }
   ],
   "source": [
    "df_pat = df['patientId'].value_counts().rename_axis('patientId').reset_index(name='counts')\n",
    "#df_pat['patientId'] = [uuid.uuid4() for _ in range(len(df_pat.index))]\n",
    "df_pat.head()"
   ]
  },
  {
   "cell_type": "code",
   "execution_count": 29,
   "metadata": {},
   "outputs": [],
   "source": [
    "df.to_csv('sepsis_events_sorted.csv')\n",
    "df_pat.to_csv('sepsis_events_patients.csv')"
   ]
  },
  {
   "cell_type": "code",
   "execution_count": null,
   "metadata": {},
   "outputs": [],
   "source": []
  },
  {
   "cell_type": "code",
   "execution_count": 37,
   "metadata": {},
   "outputs": [
    {
     "data": {
      "text/html": [
       "<div>\n",
       "<style scoped>\n",
       "    .dataframe tbody tr th:only-of-type {\n",
       "        vertical-align: middle;\n",
       "    }\n",
       "\n",
       "    .dataframe tbody tr th {\n",
       "        vertical-align: top;\n",
       "    }\n",
       "\n",
       "    .dataframe thead th {\n",
       "        text-align: right;\n",
       "    }\n",
       "</style>\n",
       "<table border=\"1\" class=\"dataframe\">\n",
       "  <thead>\n",
       "    <tr style=\"text-align: right;\">\n",
       "      <th></th>\n",
       "      <th>prevEventId</th>\n",
       "      <th>eventId</th>\n",
       "      <th>patientId</th>\n",
       "    </tr>\n",
       "  </thead>\n",
       "  <tbody>\n",
       "    <tr>\n",
       "      <th>0</th>\n",
       "      <td>143c49de-57b8-11e9-99cb-e51ddd026e24</td>\n",
       "      <td>cae60932-57b7-11e9-99cb-e51ddd026e24</td>\n",
       "      <td>0229b734-57b5-11e9-ad52-30582bd09167</td>\n",
       "    </tr>\n",
       "    <tr>\n",
       "      <th>1</th>\n",
       "      <td>cae60932-57b7-11e9-99cb-e51ddd026e24</td>\n",
       "      <td>e5936a4a-57b7-11e9-99cb-e51ddd026e24</td>\n",
       "      <td>0229b734-57b5-11e9-ad52-30582bd09167</td>\n",
       "    </tr>\n",
       "    <tr>\n",
       "      <th>2</th>\n",
       "      <td>e5936a4a-57b7-11e9-99cb-e51ddd026e24</td>\n",
       "      <td>ff2bb8a4-57b7-11e9-99cb-e51ddd026e24</td>\n",
       "      <td>0229b734-57b5-11e9-ad52-30582bd09167</td>\n",
       "    </tr>\n",
       "    <tr>\n",
       "      <th>3</th>\n",
       "      <td>ff2bb8a4-57b7-11e9-99cb-e51ddd026e24</td>\n",
       "      <td>d65246c8-57b7-11e9-99cb-e51ddd026e24</td>\n",
       "      <td>0229b734-57b5-11e9-ad52-30582bd09167</td>\n",
       "    </tr>\n",
       "    <tr>\n",
       "      <th>4</th>\n",
       "      <td>d65246c8-57b7-11e9-99cb-e51ddd026e24</td>\n",
       "      <td>f425e9d4-57b7-11e9-99cb-e51ddd026e24</td>\n",
       "      <td>0229b734-57b5-11e9-ad52-30582bd09167</td>\n",
       "    </tr>\n",
       "  </tbody>\n",
       "</table>\n",
       "</div>"
      ],
      "text/plain": [
       "                            prevEventId                               eventId  \\\n",
       "0  143c49de-57b8-11e9-99cb-e51ddd026e24  cae60932-57b7-11e9-99cb-e51ddd026e24   \n",
       "1  cae60932-57b7-11e9-99cb-e51ddd026e24  e5936a4a-57b7-11e9-99cb-e51ddd026e24   \n",
       "2  e5936a4a-57b7-11e9-99cb-e51ddd026e24  ff2bb8a4-57b7-11e9-99cb-e51ddd026e24   \n",
       "3  ff2bb8a4-57b7-11e9-99cb-e51ddd026e24  d65246c8-57b7-11e9-99cb-e51ddd026e24   \n",
       "4  d65246c8-57b7-11e9-99cb-e51ddd026e24  f425e9d4-57b7-11e9-99cb-e51ddd026e24   \n",
       "\n",
       "                              patientId  \n",
       "0  0229b734-57b5-11e9-ad52-30582bd09167  \n",
       "1  0229b734-57b5-11e9-ad52-30582bd09167  \n",
       "2  0229b734-57b5-11e9-ad52-30582bd09167  \n",
       "3  0229b734-57b5-11e9-ad52-30582bd09167  \n",
       "4  0229b734-57b5-11e9-ad52-30582bd09167  "
      ]
     },
     "execution_count": 37,
     "metadata": {},
     "output_type": "execute_result"
    }
   ],
   "source": [
    "events = []\n",
    "prev_event_id = ''\n",
    "prev_pat_id = ''\n",
    "\n",
    "for idx, row in df.iterrows():\n",
    "    if prev_pat_id == row['patientId']:\n",
    "        cur_event = [prev_event_id, row['eventId'], row['patientId']]\n",
    "        events.append(cur_event)\n",
    "    \n",
    "    prev_event_id = row['eventId']\n",
    "    prev_pat_id = row['patientId']\n",
    "    \n",
    "df_linked_events = pd.DataFrame(events)\n",
    "df_linked_events.columns = ['prevEventId', 'eventId', 'patientId']\n",
    "df_linked_events.head()"
   ]
  },
  {
   "cell_type": "code",
   "execution_count": 38,
   "metadata": {},
   "outputs": [],
   "source": [
    "df_linked_events.to_csv('sepsis_linked_events.csv')"
   ]
  },
  {
   "cell_type": "code",
   "execution_count": null,
   "metadata": {},
   "outputs": [],
   "source": []
  }
 ],
 "metadata": {
  "kernelspec": {
   "display_name": "Python 3",
   "language": "python",
   "name": "python3"
  },
  "language_info": {
   "codemirror_mode": {
    "name": "ipython",
    "version": 3
   },
   "file_extension": ".py",
   "mimetype": "text/x-python",
   "name": "python",
   "nbconvert_exporter": "python",
   "pygments_lexer": "ipython3",
   "version": "3.7.1"
  }
 },
 "nbformat": 4,
 "nbformat_minor": 2
}
