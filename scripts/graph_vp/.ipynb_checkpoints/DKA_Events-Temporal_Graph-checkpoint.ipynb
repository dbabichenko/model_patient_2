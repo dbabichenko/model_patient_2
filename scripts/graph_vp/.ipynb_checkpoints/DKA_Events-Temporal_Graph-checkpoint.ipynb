{
 "cells": [
  {
   "cell_type": "code",
   "execution_count": 1,
   "metadata": {},
   "outputs": [],
   "source": [
    "import mysql.connector as sql\n",
    "import pandas as pd\n",
    "import datetime\n",
    "import uuid\n"
   ]
  },
  {
   "cell_type": "code",
   "execution_count": 2,
   "metadata": {},
   "outputs": [],
   "source": [
    "def convert_date_col(date_str):\n",
    "    date_str = date_str[0:16]\n",
    "    try:\n",
    "        return datetime.datetime.strptime(date_str, '%m/%d/%Y %H:%M').strftime('%Y-%m-%dT%H:%M')\n",
    "    except:\n",
    "        return datetime.datetime.strptime(date_str, '%Y-%m-%d %H:%M').strftime('%Y-%m-%dT%H:%M')"
   ]
  },
  {
   "cell_type": "code",
   "execution_count": 4,
   "metadata": {},
   "outputs": [],
   "source": [
    "db_connection = sql.connect(host='localhost', database='benedict', user='root', password='artema2')"
   ]
  },
  {
   "cell_type": "code",
   "execution_count": 5,
   "metadata": {},
   "outputs": [
    {
     "data": {
      "text/plain": [
       "['6b129580-229a-11ea-af9c-8a315723aae9',\n",
       " '6b5b905a-229a-11ea-af9c-8a315723aae9',\n",
       " '6aeaa7a0-229a-11ea-af9c-8a315723aae9',\n",
       " '6b046afa-229a-11ea-af9c-8a315723aae9',\n",
       " '6b3f03e0-229a-11ea-af9c-8a315723aae9',\n",
       " '6b1c64b6-229a-11ea-af9c-8a315723aae9',\n",
       " '6a9a6fba-229a-11ea-af9c-8a315723aae9',\n",
       " '6b4b9bfa-229a-11ea-af9c-8a315723aae9',\n",
       " '6ae30630-229a-11ea-af9c-8a315723aae9',\n",
       " '6ae48a46-229a-11ea-af9c-8a315723aae9',\n",
       " '6b0bf3ba-229a-11ea-af9c-8a315723aae9',\n",
       " '6b397dda-229a-11ea-af9c-8a315723aae9',\n",
       " '6aeaf11a-229a-11ea-af9c-8a315723aae9',\n",
       " '6b0a8dae-229a-11ea-af9c-8a315723aae9',\n",
       " '6af9d2ac-229a-11ea-af9c-8a315723aae9',\n",
       " '6ac1d58c-229a-11ea-af9c-8a315723aae9',\n",
       " '6a7d5060-229a-11ea-af9c-8a315723aae9',\n",
       " '6b59b262-229a-11ea-af9c-8a315723aae9',\n",
       " '6abb49ce-229a-11ea-af9c-8a315723aae9',\n",
       " '6aa7d3ee-229a-11ea-af9c-8a315723aae9',\n",
       " '6a8e469a-229a-11ea-af9c-8a315723aae9',\n",
       " '6b2ce26e-229a-11ea-af9c-8a315723aae9',\n",
       " '6ab85232-229a-11ea-af9c-8a315723aae9',\n",
       " '6b395be8-229a-11ea-af9c-8a315723aae9',\n",
       " '6ae4821c-229a-11ea-af9c-8a315723aae9',\n",
       " '6b350516-229a-11ea-af9c-8a315723aae9',\n",
       " '6aee2fce-229a-11ea-af9c-8a315723aae9',\n",
       " '6b3f16a0-229a-11ea-af9c-8a315723aae9',\n",
       " '6b27386e-229a-11ea-af9c-8a315723aae9',\n",
       " '6ac9c38c-229a-11ea-af9c-8a315723aae9',\n",
       " '6b4ef020-229a-11ea-af9c-8a315723aae9',\n",
       " '6a829f8e-229a-11ea-af9c-8a315723aae9',\n",
       " '6aa3bb88-229a-11ea-af9c-8a315723aae9',\n",
       " '6ae46a8e-229a-11ea-af9c-8a315723aae9',\n",
       " '6b45f88a-229a-11ea-af9c-8a315723aae9',\n",
       " '6a7752c8-229a-11ea-af9c-8a315723aae9',\n",
       " '6b5ccbd2-229a-11ea-af9c-8a315723aae9',\n",
       " '6aff5d4e-229a-11ea-af9c-8a315723aae9',\n",
       " '6a9598b4-229a-11ea-af9c-8a315723aae9',\n",
       " '6b39472a-229a-11ea-af9c-8a315723aae9',\n",
       " '6b407b94-229a-11ea-af9c-8a315723aae9',\n",
       " '6af9d748-229a-11ea-af9c-8a315723aae9',\n",
       " '6aaf7d88-229a-11ea-af9c-8a315723aae9',\n",
       " '6ae3e7da-229a-11ea-af9c-8a315723aae9',\n",
       " '6b446c4a-229a-11ea-af9c-8a315723aae9',\n",
       " '6afa3d64-229a-11ea-af9c-8a315723aae9',\n",
       " '6a7b3e24-229a-11ea-af9c-8a315723aae9',\n",
       " '6b25c1be-229a-11ea-af9c-8a315723aae9',\n",
       " '6af4b7d6-229a-11ea-af9c-8a315723aae9',\n",
       " '6b279048-229a-11ea-af9c-8a315723aae9',\n",
       " '6b533a0e-229a-11ea-af9c-8a315723aae9',\n",
       " '6b00717a-229a-11ea-af9c-8a315723aae9',\n",
       " '6b115dd2-229a-11ea-af9c-8a315723aae9',\n",
       " '6ad17276-229a-11ea-af9c-8a315723aae9',\n",
       " '6aae6e48-229a-11ea-af9c-8a315723aae9',\n",
       " '6ab1ea46-229a-11ea-af9c-8a315723aae9',\n",
       " '6ac5efe6-229a-11ea-af9c-8a315723aae9',\n",
       " '6b43b03e-229a-11ea-af9c-8a315723aae9',\n",
       " '6b51f4fa-229a-11ea-af9c-8a315723aae9',\n",
       " '6b291c92-229a-11ea-af9c-8a315723aae9',\n",
       " '6b340d50-229a-11ea-af9c-8a315723aae9',\n",
       " '6a8222f2-229a-11ea-af9c-8a315723aae9',\n",
       " '6a72beb6-229a-11ea-af9c-8a315723aae9',\n",
       " '6b44719a-229a-11ea-af9c-8a315723aae9',\n",
       " '6aec81b0-229a-11ea-af9c-8a315723aae9',\n",
       " '6b5f425e-229a-11ea-af9c-8a315723aae9',\n",
       " '6b128874-229a-11ea-af9c-8a315723aae9',\n",
       " '6afc897a-229a-11ea-af9c-8a315723aae9',\n",
       " '6ac95f6e-229a-11ea-af9c-8a315723aae9',\n",
       " '6b47f7b6-229a-11ea-af9c-8a315723aae9',\n",
       " '6b5994da-229a-11ea-af9c-8a315723aae9',\n",
       " '6b1ec0ee-229a-11ea-af9c-8a315723aae9',\n",
       " '6a68b31c-229a-11ea-af9c-8a315723aae9',\n",
       " '6a7425e4-229a-11ea-af9c-8a315723aae9',\n",
       " '6b2d4f74-229a-11ea-af9c-8a315723aae9',\n",
       " '6ae3d07e-229a-11ea-af9c-8a315723aae9',\n",
       " '6b10ed2a-229a-11ea-af9c-8a315723aae9',\n",
       " '6b095c7c-229a-11ea-af9c-8a315723aae9',\n",
       " '6ae73eb2-229a-11ea-af9c-8a315723aae9',\n",
       " '6ae0a1d8-229a-11ea-af9c-8a315723aae9',\n",
       " '6addd6c4-229a-11ea-af9c-8a315723aae9',\n",
       " '6ad17492-229a-11ea-af9c-8a315723aae9',\n",
       " '6a7f4514-229a-11ea-af9c-8a315723aae9',\n",
       " '6aae0d40-229a-11ea-af9c-8a315723aae9',\n",
       " '6a753470-229a-11ea-af9c-8a315723aae9',\n",
       " '6a6d9260-229a-11ea-af9c-8a315723aae9',\n",
       " '6b1bd2c6-229a-11ea-af9c-8a315723aae9',\n",
       " '6b242764-229a-11ea-af9c-8a315723aae9',\n",
       " '6a7d0cf4-229a-11ea-af9c-8a315723aae9',\n",
       " '6aa8d21c-229a-11ea-af9c-8a315723aae9',\n",
       " '6b3b6eb0-229a-11ea-af9c-8a315723aae9',\n",
       " '6af12986-229a-11ea-af9c-8a315723aae9',\n",
       " '6a7fe456-229a-11ea-af9c-8a315723aae9',\n",
       " '6ac013e6-229a-11ea-af9c-8a315723aae9',\n",
       " '6b044a66-229a-11ea-af9c-8a315723aae9',\n",
       " '6b4581b6-229a-11ea-af9c-8a315723aae9',\n",
       " '6a6c459a-229a-11ea-af9c-8a315723aae9',\n",
       " '6b3421f0-229a-11ea-af9c-8a315723aae9',\n",
       " '6ac1583c-229a-11ea-af9c-8a315723aae9',\n",
       " '6b19debc-229a-11ea-af9c-8a315723aae9']"
      ]
     },
     "execution_count": 5,
     "metadata": {},
     "output_type": "execute_result"
    }
   ],
   "source": [
    "patient_list = pd.read_csv('dka_patients.csv')\n",
    "patients = list(patient_list['patient_id'])\n",
    "patients"
   ]
  },
  {
   "cell_type": "code",
   "execution_count": 6,
   "metadata": {},
   "outputs": [
    {
     "name": "stdout",
     "output_type": "stream",
     "text": [
      "SELECT uuid() AS eventId, patient_id AS patientId, event_date  as eventDate, event_name AS eventName, result_val as resultValue, result_unit AS resultUnit, event_category AS eventCategory FROM benedict.dka_case_events e JOIN benedict.dka_patients p ON e.fin = p.fin WHERE patient_id IN ('6b129580-229a-11ea-af9c-8a315723aae9', '6b5b905a-229a-11ea-af9c-8a315723aae9', '6aeaa7a0-229a-11ea-af9c-8a315723aae9', '6b046afa-229a-11ea-af9c-8a315723aae9', '6b3f03e0-229a-11ea-af9c-8a315723aae9', '6b1c64b6-229a-11ea-af9c-8a315723aae9', '6a9a6fba-229a-11ea-af9c-8a315723aae9', '6b4b9bfa-229a-11ea-af9c-8a315723aae9', '6ae30630-229a-11ea-af9c-8a315723aae9', '6ae48a46-229a-11ea-af9c-8a315723aae9', '6b0bf3ba-229a-11ea-af9c-8a315723aae9', '6b397dda-229a-11ea-af9c-8a315723aae9', '6aeaf11a-229a-11ea-af9c-8a315723aae9', '6b0a8dae-229a-11ea-af9c-8a315723aae9', '6af9d2ac-229a-11ea-af9c-8a315723aae9', '6ac1d58c-229a-11ea-af9c-8a315723aae9', '6a7d5060-229a-11ea-af9c-8a315723aae9', '6b59b262-229a-11ea-af9c-8a315723aae9', '6abb49ce-229a-11ea-af9c-8a315723aae9', '6aa7d3ee-229a-11ea-af9c-8a315723aae9', '6a8e469a-229a-11ea-af9c-8a315723aae9', '6b2ce26e-229a-11ea-af9c-8a315723aae9', '6ab85232-229a-11ea-af9c-8a315723aae9', '6b395be8-229a-11ea-af9c-8a315723aae9', '6ae4821c-229a-11ea-af9c-8a315723aae9', '6b350516-229a-11ea-af9c-8a315723aae9', '6aee2fce-229a-11ea-af9c-8a315723aae9', '6b3f16a0-229a-11ea-af9c-8a315723aae9', '6b27386e-229a-11ea-af9c-8a315723aae9', '6ac9c38c-229a-11ea-af9c-8a315723aae9', '6b4ef020-229a-11ea-af9c-8a315723aae9', '6a829f8e-229a-11ea-af9c-8a315723aae9', '6aa3bb88-229a-11ea-af9c-8a315723aae9', '6ae46a8e-229a-11ea-af9c-8a315723aae9', '6b45f88a-229a-11ea-af9c-8a315723aae9', '6a7752c8-229a-11ea-af9c-8a315723aae9', '6b5ccbd2-229a-11ea-af9c-8a315723aae9', '6aff5d4e-229a-11ea-af9c-8a315723aae9', '6a9598b4-229a-11ea-af9c-8a315723aae9', '6b39472a-229a-11ea-af9c-8a315723aae9', '6b407b94-229a-11ea-af9c-8a315723aae9', '6af9d748-229a-11ea-af9c-8a315723aae9', '6aaf7d88-229a-11ea-af9c-8a315723aae9', '6ae3e7da-229a-11ea-af9c-8a315723aae9', '6b446c4a-229a-11ea-af9c-8a315723aae9', '6afa3d64-229a-11ea-af9c-8a315723aae9', '6a7b3e24-229a-11ea-af9c-8a315723aae9', '6b25c1be-229a-11ea-af9c-8a315723aae9', '6af4b7d6-229a-11ea-af9c-8a315723aae9', '6b279048-229a-11ea-af9c-8a315723aae9', '6b533a0e-229a-11ea-af9c-8a315723aae9', '6b00717a-229a-11ea-af9c-8a315723aae9', '6b115dd2-229a-11ea-af9c-8a315723aae9', '6ad17276-229a-11ea-af9c-8a315723aae9', '6aae6e48-229a-11ea-af9c-8a315723aae9', '6ab1ea46-229a-11ea-af9c-8a315723aae9', '6ac5efe6-229a-11ea-af9c-8a315723aae9', '6b43b03e-229a-11ea-af9c-8a315723aae9', '6b51f4fa-229a-11ea-af9c-8a315723aae9', '6b291c92-229a-11ea-af9c-8a315723aae9', '6b340d50-229a-11ea-af9c-8a315723aae9', '6a8222f2-229a-11ea-af9c-8a315723aae9', '6a72beb6-229a-11ea-af9c-8a315723aae9', '6b44719a-229a-11ea-af9c-8a315723aae9', '6aec81b0-229a-11ea-af9c-8a315723aae9', '6b5f425e-229a-11ea-af9c-8a315723aae9', '6b128874-229a-11ea-af9c-8a315723aae9', '6afc897a-229a-11ea-af9c-8a315723aae9', '6ac95f6e-229a-11ea-af9c-8a315723aae9', '6b47f7b6-229a-11ea-af9c-8a315723aae9', '6b5994da-229a-11ea-af9c-8a315723aae9', '6b1ec0ee-229a-11ea-af9c-8a315723aae9', '6a68b31c-229a-11ea-af9c-8a315723aae9', '6a7425e4-229a-11ea-af9c-8a315723aae9', '6b2d4f74-229a-11ea-af9c-8a315723aae9', '6ae3d07e-229a-11ea-af9c-8a315723aae9', '6b10ed2a-229a-11ea-af9c-8a315723aae9', '6b095c7c-229a-11ea-af9c-8a315723aae9', '6ae73eb2-229a-11ea-af9c-8a315723aae9', '6ae0a1d8-229a-11ea-af9c-8a315723aae9', '6addd6c4-229a-11ea-af9c-8a315723aae9', '6ad17492-229a-11ea-af9c-8a315723aae9', '6a7f4514-229a-11ea-af9c-8a315723aae9', '6aae0d40-229a-11ea-af9c-8a315723aae9', '6a753470-229a-11ea-af9c-8a315723aae9', '6a6d9260-229a-11ea-af9c-8a315723aae9', '6b1bd2c6-229a-11ea-af9c-8a315723aae9', '6b242764-229a-11ea-af9c-8a315723aae9', '6a7d0cf4-229a-11ea-af9c-8a315723aae9', '6aa8d21c-229a-11ea-af9c-8a315723aae9', '6b3b6eb0-229a-11ea-af9c-8a315723aae9', '6af12986-229a-11ea-af9c-8a315723aae9', '6a7fe456-229a-11ea-af9c-8a315723aae9', '6ac013e6-229a-11ea-af9c-8a315723aae9', '6b044a66-229a-11ea-af9c-8a315723aae9', '6b4581b6-229a-11ea-af9c-8a315723aae9', '6a6c459a-229a-11ea-af9c-8a315723aae9', '6b3421f0-229a-11ea-af9c-8a315723aae9', '6ac1583c-229a-11ea-af9c-8a315723aae9', '6b19debc-229a-11ea-af9c-8a315723aae9')  ORDER BY patient_id, eventDate \n"
     ]
    }
   ],
   "source": [
    "qry = \"SELECT uuid() AS eventId, patient_id AS patientId, event_date  as eventDate, event_name AS eventName, result_val as resultValue, result_unit AS resultUnit, event_category AS eventCategory \"\n",
    "qry = qry + \"FROM benedict.dka_case_events e JOIN benedict.dka_patients p ON e.fin = p.fin \"\n",
    "qry = qry + \"WHERE patient_id IN (\" + str(patients).replace('[', '').replace(']', '') + \") \"\n",
    "qry = qry + \" ORDER BY patient_id, eventDate \"\n",
    "#qry = qry + \"LIMIT 1000;\"\n",
    "\n",
    "print(qry)\n"
   ]
  },
  {
   "cell_type": "code",
   "execution_count": 7,
   "metadata": {},
   "outputs": [],
   "source": [
    "df = pd.read_sql(qry, con=db_connection)"
   ]
  },
  {
   "cell_type": "code",
   "execution_count": 8,
   "metadata": {},
   "outputs": [
    {
     "data": {
      "text/plain": [
       "(78349, 7)"
      ]
     },
     "execution_count": 8,
     "metadata": {},
     "output_type": "execute_result"
    }
   ],
   "source": [
    "df.shape"
   ]
  },
  {
   "cell_type": "code",
   "execution_count": 9,
   "metadata": {},
   "outputs": [
    {
     "data": {
      "text/html": [
       "<div>\n",
       "<style scoped>\n",
       "    .dataframe tbody tr th:only-of-type {\n",
       "        vertical-align: middle;\n",
       "    }\n",
       "\n",
       "    .dataframe tbody tr th {\n",
       "        vertical-align: top;\n",
       "    }\n",
       "\n",
       "    .dataframe thead th {\n",
       "        text-align: right;\n",
       "    }\n",
       "</style>\n",
       "<table border=\"1\" class=\"dataframe\">\n",
       "  <thead>\n",
       "    <tr style=\"text-align: right;\">\n",
       "      <th></th>\n",
       "      <th>eventId</th>\n",
       "      <th>patientId</th>\n",
       "      <th>eventDate</th>\n",
       "      <th>eventName</th>\n",
       "      <th>resultValue</th>\n",
       "      <th>resultUnit</th>\n",
       "      <th>eventCategory</th>\n",
       "    </tr>\n",
       "  </thead>\n",
       "  <tbody>\n",
       "    <tr>\n",
       "      <td>0</td>\n",
       "      <td>e7cda5ac-73ac-11ea-9037-d077e516bc70</td>\n",
       "      <td>6a68b31c-229a-11ea-af9c-8a315723aae9</td>\n",
       "      <td>2014-06-01 14:26:00</td>\n",
       "      <td>Diastolic BP</td>\n",
       "      <td>85.0</td>\n",
       "      <td>mmHg</td>\n",
       "      <td>vitals</td>\n",
       "    </tr>\n",
       "    <tr>\n",
       "      <td>1</td>\n",
       "      <td>e7cdc398-73ac-11ea-9037-d077e516bc70</td>\n",
       "      <td>6a68b31c-229a-11ea-af9c-8a315723aae9</td>\n",
       "      <td>2014-06-01 14:26:00</td>\n",
       "      <td>Systolic BP</td>\n",
       "      <td>180.0</td>\n",
       "      <td>mmHg</td>\n",
       "      <td>vitals</td>\n",
       "    </tr>\n",
       "    <tr>\n",
       "      <td>2</td>\n",
       "      <td>e7cdc3ac-73ac-11ea-9037-d077e516bc70</td>\n",
       "      <td>6a68b31c-229a-11ea-af9c-8a315723aae9</td>\n",
       "      <td>2014-06-01 14:26:00</td>\n",
       "      <td>Pulse</td>\n",
       "      <td>81.0</td>\n",
       "      <td>BPM</td>\n",
       "      <td>vitals</td>\n",
       "    </tr>\n",
       "    <tr>\n",
       "      <td>3</td>\n",
       "      <td>e7cdc3ad-73ac-11ea-9037-d077e516bc70</td>\n",
       "      <td>6a68b31c-229a-11ea-af9c-8a315723aae9</td>\n",
       "      <td>2014-06-01 14:26:00</td>\n",
       "      <td>Respiratory Rate</td>\n",
       "      <td>18.0</td>\n",
       "      <td>RPM</td>\n",
       "      <td>vitals</td>\n",
       "    </tr>\n",
       "    <tr>\n",
       "      <td>4</td>\n",
       "      <td>e7cdc3b6-73ac-11ea-9037-d077e516bc70</td>\n",
       "      <td>6a68b31c-229a-11ea-af9c-8a315723aae9</td>\n",
       "      <td>2014-06-01 14:26:00</td>\n",
       "      <td>Diastolic BP</td>\n",
       "      <td>85.0</td>\n",
       "      <td>mmHg</td>\n",
       "      <td>vitals</td>\n",
       "    </tr>\n",
       "  </tbody>\n",
       "</table>\n",
       "</div>"
      ],
      "text/plain": [
       "                                eventId                             patientId  \\\n",
       "0  e7cda5ac-73ac-11ea-9037-d077e516bc70  6a68b31c-229a-11ea-af9c-8a315723aae9   \n",
       "1  e7cdc398-73ac-11ea-9037-d077e516bc70  6a68b31c-229a-11ea-af9c-8a315723aae9   \n",
       "2  e7cdc3ac-73ac-11ea-9037-d077e516bc70  6a68b31c-229a-11ea-af9c-8a315723aae9   \n",
       "3  e7cdc3ad-73ac-11ea-9037-d077e516bc70  6a68b31c-229a-11ea-af9c-8a315723aae9   \n",
       "4  e7cdc3b6-73ac-11ea-9037-d077e516bc70  6a68b31c-229a-11ea-af9c-8a315723aae9   \n",
       "\n",
       "            eventDate         eventName  resultValue resultUnit eventCategory  \n",
       "0 2014-06-01 14:26:00      Diastolic BP         85.0       mmHg        vitals  \n",
       "1 2014-06-01 14:26:00       Systolic BP        180.0       mmHg        vitals  \n",
       "2 2014-06-01 14:26:00             Pulse         81.0        BPM        vitals  \n",
       "3 2014-06-01 14:26:00  Respiratory Rate         18.0        RPM        vitals  \n",
       "4 2014-06-01 14:26:00      Diastolic BP         85.0       mmHg        vitals  "
      ]
     },
     "execution_count": 9,
     "metadata": {},
     "output_type": "execute_result"
    }
   ],
   "source": [
    "df.head()"
   ]
  },
  {
   "cell_type": "code",
   "execution_count": 10,
   "metadata": {},
   "outputs": [
    {
     "data": {
      "text/plain": [
       "(78349, 7)"
      ]
     },
     "execution_count": 10,
     "metadata": {},
     "output_type": "execute_result"
    }
   ],
   "source": [
    "df.shape"
   ]
  },
  {
   "cell_type": "code",
   "execution_count": 11,
   "metadata": {},
   "outputs": [],
   "source": [
    "#df['eventDate']"
   ]
  },
  {
   "cell_type": "code",
   "execution_count": 20,
   "metadata": {},
   "outputs": [],
   "source": [
    "#df['eventDate'] = df['eventDate'].apply(lambda x: convert_date_col(x))\n",
    "#df['eventDate'] = df['eventDate'].apply(convert_date_col)"
   ]
  },
  {
   "cell_type": "code",
   "execution_count": 21,
   "metadata": {},
   "outputs": [
    {
     "data": {
      "text/html": [
       "<div>\n",
       "<style scoped>\n",
       "    .dataframe tbody tr th:only-of-type {\n",
       "        vertical-align: middle;\n",
       "    }\n",
       "\n",
       "    .dataframe tbody tr th {\n",
       "        vertical-align: top;\n",
       "    }\n",
       "\n",
       "    .dataframe thead th {\n",
       "        text-align: right;\n",
       "    }\n",
       "</style>\n",
       "<table border=\"1\" class=\"dataframe\">\n",
       "  <thead>\n",
       "    <tr style=\"text-align: right;\">\n",
       "      <th></th>\n",
       "      <th>patientId</th>\n",
       "      <th>counts</th>\n",
       "    </tr>\n",
       "  </thead>\n",
       "  <tbody>\n",
       "    <tr>\n",
       "      <td>0</td>\n",
       "      <td>6af12986-229a-11ea-af9c-8a315723aae9</td>\n",
       "      <td>4298</td>\n",
       "    </tr>\n",
       "    <tr>\n",
       "      <td>1</td>\n",
       "      <td>6a7b3e24-229a-11ea-af9c-8a315723aae9</td>\n",
       "      <td>4055</td>\n",
       "    </tr>\n",
       "    <tr>\n",
       "      <td>2</td>\n",
       "      <td>6b2d4f74-229a-11ea-af9c-8a315723aae9</td>\n",
       "      <td>3604</td>\n",
       "    </tr>\n",
       "    <tr>\n",
       "      <td>3</td>\n",
       "      <td>6b3b6eb0-229a-11ea-af9c-8a315723aae9</td>\n",
       "      <td>3062</td>\n",
       "    </tr>\n",
       "    <tr>\n",
       "      <td>4</td>\n",
       "      <td>6ab1ea46-229a-11ea-af9c-8a315723aae9</td>\n",
       "      <td>3048</td>\n",
       "    </tr>\n",
       "  </tbody>\n",
       "</table>\n",
       "</div>"
      ],
      "text/plain": [
       "                              patientId  counts\n",
       "0  6af12986-229a-11ea-af9c-8a315723aae9    4298\n",
       "1  6a7b3e24-229a-11ea-af9c-8a315723aae9    4055\n",
       "2  6b2d4f74-229a-11ea-af9c-8a315723aae9    3604\n",
       "3  6b3b6eb0-229a-11ea-af9c-8a315723aae9    3062\n",
       "4  6ab1ea46-229a-11ea-af9c-8a315723aae9    3048"
      ]
     },
     "execution_count": 21,
     "metadata": {},
     "output_type": "execute_result"
    }
   ],
   "source": [
    "df_pat = df['patientId'].value_counts().rename_axis('patientId').reset_index(name='counts')\n",
    "#df_pat['patientId'] = [uuid.uuid4() for _ in range(len(df_pat.index))]\n",
    "df_pat.head()"
   ]
  },
  {
   "cell_type": "code",
   "execution_count": 22,
   "metadata": {},
   "outputs": [
    {
     "data": {
      "text/plain": [
       "(100, 2)"
      ]
     },
     "execution_count": 22,
     "metadata": {},
     "output_type": "execute_result"
    }
   ],
   "source": [
    "df_pat.shape"
   ]
  },
  {
   "cell_type": "code",
   "execution_count": 23,
   "metadata": {},
   "outputs": [],
   "source": [
    "df.to_csv('output/dka_events_sorted.csv')\n",
    "df_pat.to_csv('output/dka_events_patients.csv')"
   ]
  },
  {
   "cell_type": "code",
   "execution_count": null,
   "metadata": {},
   "outputs": [],
   "source": []
  },
  {
   "cell_type": "code",
   "execution_count": 28,
   "metadata": {},
   "outputs": [
    {
     "data": {
      "text/html": [
       "<div>\n",
       "<style scoped>\n",
       "    .dataframe tbody tr th:only-of-type {\n",
       "        vertical-align: middle;\n",
       "    }\n",
       "\n",
       "    .dataframe tbody tr th {\n",
       "        vertical-align: top;\n",
       "    }\n",
       "\n",
       "    .dataframe thead th {\n",
       "        text-align: right;\n",
       "    }\n",
       "</style>\n",
       "<table border=\"1\" class=\"dataframe\">\n",
       "  <thead>\n",
       "    <tr style=\"text-align: right;\">\n",
       "      <th></th>\n",
       "      <th>prevEventId</th>\n",
       "      <th>eventId</th>\n",
       "      <th>patientId</th>\n",
       "    </tr>\n",
       "  </thead>\n",
       "  <tbody>\n",
       "    <tr>\n",
       "      <td>0</td>\n",
       "      <td>85336a28-22a6-11ea-af9c-8a315723aae9</td>\n",
       "      <td>85336a8c-22a6-11ea-af9c-8a315723aae9</td>\n",
       "      <td>6a68b31c-229a-11ea-af9c-8a315723aae9</td>\n",
       "    </tr>\n",
       "    <tr>\n",
       "      <td>1</td>\n",
       "      <td>85336a8c-22a6-11ea-af9c-8a315723aae9</td>\n",
       "      <td>85336a96-22a6-11ea-af9c-8a315723aae9</td>\n",
       "      <td>6a68b31c-229a-11ea-af9c-8a315723aae9</td>\n",
       "    </tr>\n",
       "    <tr>\n",
       "      <td>2</td>\n",
       "      <td>85336a96-22a6-11ea-af9c-8a315723aae9</td>\n",
       "      <td>85336aaa-22a6-11ea-af9c-8a315723aae9</td>\n",
       "      <td>6a68b31c-229a-11ea-af9c-8a315723aae9</td>\n",
       "    </tr>\n",
       "    <tr>\n",
       "      <td>3</td>\n",
       "      <td>85336aaa-22a6-11ea-af9c-8a315723aae9</td>\n",
       "      <td>85336ab4-22a6-11ea-af9c-8a315723aae9</td>\n",
       "      <td>6a68b31c-229a-11ea-af9c-8a315723aae9</td>\n",
       "    </tr>\n",
       "    <tr>\n",
       "      <td>4</td>\n",
       "      <td>85336ab4-22a6-11ea-af9c-8a315723aae9</td>\n",
       "      <td>85336abe-22a6-11ea-af9c-8a315723aae9</td>\n",
       "      <td>6a68b31c-229a-11ea-af9c-8a315723aae9</td>\n",
       "    </tr>\n",
       "  </tbody>\n",
       "</table>\n",
       "</div>"
      ],
      "text/plain": [
       "                            prevEventId                               eventId  \\\n",
       "0  85336a28-22a6-11ea-af9c-8a315723aae9  85336a8c-22a6-11ea-af9c-8a315723aae9   \n",
       "1  85336a8c-22a6-11ea-af9c-8a315723aae9  85336a96-22a6-11ea-af9c-8a315723aae9   \n",
       "2  85336a96-22a6-11ea-af9c-8a315723aae9  85336aaa-22a6-11ea-af9c-8a315723aae9   \n",
       "3  85336aaa-22a6-11ea-af9c-8a315723aae9  85336ab4-22a6-11ea-af9c-8a315723aae9   \n",
       "4  85336ab4-22a6-11ea-af9c-8a315723aae9  85336abe-22a6-11ea-af9c-8a315723aae9   \n",
       "\n",
       "                              patientId  \n",
       "0  6a68b31c-229a-11ea-af9c-8a315723aae9  \n",
       "1  6a68b31c-229a-11ea-af9c-8a315723aae9  \n",
       "2  6a68b31c-229a-11ea-af9c-8a315723aae9  \n",
       "3  6a68b31c-229a-11ea-af9c-8a315723aae9  \n",
       "4  6a68b31c-229a-11ea-af9c-8a315723aae9  "
      ]
     },
     "execution_count": 28,
     "metadata": {},
     "output_type": "execute_result"
    }
   ],
   "source": [
    "events = []\n",
    "prev_event_id = ''\n",
    "prev_pat_id = ''\n",
    "\n",
    "for idx, row in df.iterrows():\n",
    "    if prev_pat_id == row['patientId']:\n",
    "        cur_event = [prev_event_id, row['eventId'], row['patientId']]\n",
    "        events.append(cur_event)\n",
    "    \n",
    "    prev_event_id = row['eventId']\n",
    "    prev_pat_id = row['patientId']\n",
    "    \n",
    "df_linked_events = pd.DataFrame(events)\n",
    "df_linked_events.columns = ['prevEventId', 'eventId', 'patientId']\n",
    "df_linked_events.head()"
   ]
  },
  {
   "cell_type": "code",
   "execution_count": 29,
   "metadata": {},
   "outputs": [],
   "source": [
    "df_linked_events.to_csv('dka_linked_events.csv')"
   ]
  },
  {
   "cell_type": "code",
   "execution_count": null,
   "metadata": {
    "collapsed": true
   },
   "outputs": [],
   "source": []
  }
 ],
 "metadata": {
  "kernelspec": {
   "display_name": "Python 3",
   "language": "python",
   "name": "python3"
  },
  "language_info": {
   "codemirror_mode": {
    "name": "ipython",
    "version": 3
   },
   "file_extension": ".py",
   "mimetype": "text/x-python",
   "name": "python",
   "nbconvert_exporter": "python",
   "pygments_lexer": "ipython3",
   "version": "3.7.4"
  }
 },
 "nbformat": 4,
 "nbformat_minor": 2
}
